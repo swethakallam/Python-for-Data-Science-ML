{
 "cells": [
  {
   "cell_type": "code",
   "execution_count": 1,
   "metadata": {},
   "outputs": [],
   "source": [
    "import pandas as pd"
   ]
  },
  {
   "cell_type": "code",
   "execution_count": 4,
   "metadata": {},
   "outputs": [],
   "source": [
    "bankdata = pd.read_csv('bank-data.csv')"
   ]
  },
  {
   "cell_type": "code",
   "execution_count": 5,
   "metadata": {},
   "outputs": [
    {
     "data": {
      "text/html": [
       "<div>\n",
       "<style scoped>\n",
       "    .dataframe tbody tr th:only-of-type {\n",
       "        vertical-align: middle;\n",
       "    }\n",
       "\n",
       "    .dataframe tbody tr th {\n",
       "        vertical-align: top;\n",
       "    }\n",
       "\n",
       "    .dataframe thead th {\n",
       "        text-align: right;\n",
       "    }\n",
       "</style>\n",
       "<table border=\"1\" class=\"dataframe\">\n",
       "  <thead>\n",
       "    <tr style=\"text-align: right;\">\n",
       "      <th></th>\n",
       "      <th>age</th>\n",
       "      <th>job</th>\n",
       "      <th>marital</th>\n",
       "      <th>y</th>\n",
       "    </tr>\n",
       "  </thead>\n",
       "  <tbody>\n",
       "    <tr>\n",
       "      <td>0</td>\n",
       "      <td>20</td>\n",
       "      <td>student</td>\n",
       "      <td>single</td>\n",
       "      <td>yes</td>\n",
       "    </tr>\n",
       "    <tr>\n",
       "      <td>1</td>\n",
       "      <td>32</td>\n",
       "      <td>management</td>\n",
       "      <td>single</td>\n",
       "      <td>yes</td>\n",
       "    </tr>\n",
       "    <tr>\n",
       "      <td>2</td>\n",
       "      <td>49</td>\n",
       "      <td>technician</td>\n",
       "      <td>married</td>\n",
       "      <td>yes</td>\n",
       "    </tr>\n",
       "    <tr>\n",
       "      <td>3</td>\n",
       "      <td>32</td>\n",
       "      <td>blue-collar</td>\n",
       "      <td>married</td>\n",
       "      <td>yes</td>\n",
       "    </tr>\n",
       "    <tr>\n",
       "      <td>4</td>\n",
       "      <td>33</td>\n",
       "      <td>management</td>\n",
       "      <td>married</td>\n",
       "      <td>yes</td>\n",
       "    </tr>\n",
       "    <tr>\n",
       "      <td>...</td>\n",
       "      <td>...</td>\n",
       "      <td>...</td>\n",
       "      <td>...</td>\n",
       "      <td>...</td>\n",
       "    </tr>\n",
       "    <tr>\n",
       "      <td>442</td>\n",
       "      <td>26</td>\n",
       "      <td>technician</td>\n",
       "      <td>single</td>\n",
       "      <td>yes</td>\n",
       "    </tr>\n",
       "    <tr>\n",
       "      <td>443</td>\n",
       "      <td>60</td>\n",
       "      <td>self-employed</td>\n",
       "      <td>married</td>\n",
       "      <td>yes</td>\n",
       "    </tr>\n",
       "    <tr>\n",
       "      <td>444</td>\n",
       "      <td>42</td>\n",
       "      <td>blue-collar</td>\n",
       "      <td>single</td>\n",
       "      <td>yes</td>\n",
       "    </tr>\n",
       "    <tr>\n",
       "      <td>445</td>\n",
       "      <td>32</td>\n",
       "      <td>admin.</td>\n",
       "      <td>single</td>\n",
       "      <td>yes</td>\n",
       "    </tr>\n",
       "    <tr>\n",
       "      <td>446</td>\n",
       "      <td>46</td>\n",
       "      <td>blue-collar</td>\n",
       "      <td>married</td>\n",
       "      <td>yes</td>\n",
       "    </tr>\n",
       "  </tbody>\n",
       "</table>\n",
       "<p>447 rows × 4 columns</p>\n",
       "</div>"
      ],
      "text/plain": [
       "     age            job  marital    y\n",
       "0     20        student   single  yes\n",
       "1     32     management   single  yes\n",
       "2     49     technician  married  yes\n",
       "3     32    blue-collar  married  yes\n",
       "4     33     management  married  yes\n",
       "..   ...            ...      ...  ...\n",
       "442   26     technician   single  yes\n",
       "443   60  self-employed  married  yes\n",
       "444   42    blue-collar   single  yes\n",
       "445   32         admin.   single  yes\n",
       "446   46    blue-collar  married  yes\n",
       "\n",
       "[447 rows x 4 columns]"
      ]
     },
     "execution_count": 5,
     "metadata": {},
     "output_type": "execute_result"
    }
   ],
   "source": [
    "bankdata"
   ]
  },
  {
   "cell_type": "code",
   "execution_count": 41,
   "metadata": {
    "scrolled": true
   },
   "outputs": [
    {
     "name": "stdout",
     "output_type": "stream",
     "text": [
      "List of Eligible Clients      age         job  marital    y\n",
      "4     33  management  married  yes\n",
      "79    34  management  married  yes\n",
      "92    34  management  married  yes\n",
      "118   33  management  married  yes\n",
      "129   31  management  married  yes\n",
      "145   31  management  married  yes\n",
      "184   31  management  married  yes\n",
      "220   33  management  married  yes\n",
      "232   34  management  married  yes\n",
      "257   31  management  married  yes\n",
      "258   33  management  married  yes\n",
      "268   31  management  married  yes\n",
      "292   32  management  married  yes\n",
      "364   31  management  married  yes\n",
      "393   34  management  married  yes\n",
      "413   34  management  married  yes\n"
     ]
    }
   ],
   "source": [
    "print(\"List of Eligible Clients\", bankdata[(bankdata['age'] > 30) & (bankdata['age'] < 35) & (bankdata['marital'] == 'married') & (bankdata['job'] == 'management')])"
   ]
  },
  {
   "cell_type": "code",
   "execution_count": 43,
   "metadata": {},
   "outputs": [],
   "source": [
    "finallist = bankdata[(bankdata['age'] > 30) & (bankdata['age'] < 35) & (bankdata['marital'] == 'married') & (bankdata['job'] == 'management')]"
   ]
  },
  {
   "cell_type": "code",
   "execution_count": 44,
   "metadata": {},
   "outputs": [
    {
     "data": {
      "text/html": [
       "<div>\n",
       "<style scoped>\n",
       "    .dataframe tbody tr th:only-of-type {\n",
       "        vertical-align: middle;\n",
       "    }\n",
       "\n",
       "    .dataframe tbody tr th {\n",
       "        vertical-align: top;\n",
       "    }\n",
       "\n",
       "    .dataframe thead th {\n",
       "        text-align: right;\n",
       "    }\n",
       "</style>\n",
       "<table border=\"1\" class=\"dataframe\">\n",
       "  <thead>\n",
       "    <tr style=\"text-align: right;\">\n",
       "      <th></th>\n",
       "      <th>age</th>\n",
       "      <th>job</th>\n",
       "      <th>marital</th>\n",
       "      <th>y</th>\n",
       "    </tr>\n",
       "  </thead>\n",
       "  <tbody>\n",
       "    <tr>\n",
       "      <td>4</td>\n",
       "      <td>33</td>\n",
       "      <td>management</td>\n",
       "      <td>married</td>\n",
       "      <td>yes</td>\n",
       "    </tr>\n",
       "    <tr>\n",
       "      <td>79</td>\n",
       "      <td>34</td>\n",
       "      <td>management</td>\n",
       "      <td>married</td>\n",
       "      <td>yes</td>\n",
       "    </tr>\n",
       "    <tr>\n",
       "      <td>92</td>\n",
       "      <td>34</td>\n",
       "      <td>management</td>\n",
       "      <td>married</td>\n",
       "      <td>yes</td>\n",
       "    </tr>\n",
       "    <tr>\n",
       "      <td>118</td>\n",
       "      <td>33</td>\n",
       "      <td>management</td>\n",
       "      <td>married</td>\n",
       "      <td>yes</td>\n",
       "    </tr>\n",
       "    <tr>\n",
       "      <td>129</td>\n",
       "      <td>31</td>\n",
       "      <td>management</td>\n",
       "      <td>married</td>\n",
       "      <td>yes</td>\n",
       "    </tr>\n",
       "    <tr>\n",
       "      <td>145</td>\n",
       "      <td>31</td>\n",
       "      <td>management</td>\n",
       "      <td>married</td>\n",
       "      <td>yes</td>\n",
       "    </tr>\n",
       "    <tr>\n",
       "      <td>184</td>\n",
       "      <td>31</td>\n",
       "      <td>management</td>\n",
       "      <td>married</td>\n",
       "      <td>yes</td>\n",
       "    </tr>\n",
       "    <tr>\n",
       "      <td>220</td>\n",
       "      <td>33</td>\n",
       "      <td>management</td>\n",
       "      <td>married</td>\n",
       "      <td>yes</td>\n",
       "    </tr>\n",
       "    <tr>\n",
       "      <td>232</td>\n",
       "      <td>34</td>\n",
       "      <td>management</td>\n",
       "      <td>married</td>\n",
       "      <td>yes</td>\n",
       "    </tr>\n",
       "    <tr>\n",
       "      <td>257</td>\n",
       "      <td>31</td>\n",
       "      <td>management</td>\n",
       "      <td>married</td>\n",
       "      <td>yes</td>\n",
       "    </tr>\n",
       "    <tr>\n",
       "      <td>258</td>\n",
       "      <td>33</td>\n",
       "      <td>management</td>\n",
       "      <td>married</td>\n",
       "      <td>yes</td>\n",
       "    </tr>\n",
       "    <tr>\n",
       "      <td>268</td>\n",
       "      <td>31</td>\n",
       "      <td>management</td>\n",
       "      <td>married</td>\n",
       "      <td>yes</td>\n",
       "    </tr>\n",
       "    <tr>\n",
       "      <td>292</td>\n",
       "      <td>32</td>\n",
       "      <td>management</td>\n",
       "      <td>married</td>\n",
       "      <td>yes</td>\n",
       "    </tr>\n",
       "    <tr>\n",
       "      <td>364</td>\n",
       "      <td>31</td>\n",
       "      <td>management</td>\n",
       "      <td>married</td>\n",
       "      <td>yes</td>\n",
       "    </tr>\n",
       "    <tr>\n",
       "      <td>393</td>\n",
       "      <td>34</td>\n",
       "      <td>management</td>\n",
       "      <td>married</td>\n",
       "      <td>yes</td>\n",
       "    </tr>\n",
       "    <tr>\n",
       "      <td>413</td>\n",
       "      <td>34</td>\n",
       "      <td>management</td>\n",
       "      <td>married</td>\n",
       "      <td>yes</td>\n",
       "    </tr>\n",
       "  </tbody>\n",
       "</table>\n",
       "</div>"
      ],
      "text/plain": [
       "     age         job  marital    y\n",
       "4     33  management  married  yes\n",
       "79    34  management  married  yes\n",
       "92    34  management  married  yes\n",
       "118   33  management  married  yes\n",
       "129   31  management  married  yes\n",
       "145   31  management  married  yes\n",
       "184   31  management  married  yes\n",
       "220   33  management  married  yes\n",
       "232   34  management  married  yes\n",
       "257   31  management  married  yes\n",
       "258   33  management  married  yes\n",
       "268   31  management  married  yes\n",
       "292   32  management  married  yes\n",
       "364   31  management  married  yes\n",
       "393   34  management  married  yes\n",
       "413   34  management  married  yes"
      ]
     },
     "execution_count": 44,
     "metadata": {},
     "output_type": "execute_result"
    }
   ],
   "source": [
    "finallist"
   ]
  },
  {
   "cell_type": "code",
   "execution_count": 45,
   "metadata": {},
   "outputs": [
    {
     "data": {
      "text/plain": [
       "16"
      ]
     },
     "execution_count": 45,
     "metadata": {},
     "output_type": "execute_result"
    }
   ],
   "source": [
    "len(finallist)"
   ]
  },
  {
   "cell_type": "code",
   "execution_count": 57,
   "metadata": {},
   "outputs": [
    {
     "name": "stdout",
     "output_type": "stream",
     "text": [
      "Below is the list of  16 client who work in Management Category\n",
      "\n",
      "and are in age range of 30 to 35\n",
      "\n",
      "and also are married \n",
      "\n",
      "\n",
      "      age         job  marital    y\n",
      "4     33  management  married  yes\n",
      "79    34  management  married  yes\n",
      "92    34  management  married  yes\n",
      "118   33  management  married  yes\n",
      "129   31  management  married  yes\n",
      "145   31  management  married  yes\n",
      "184   31  management  married  yes\n",
      "220   33  management  married  yes\n",
      "232   34  management  married  yes\n",
      "257   31  management  married  yes\n",
      "258   33  management  married  yes\n",
      "268   31  management  married  yes\n",
      "292   32  management  married  yes\n",
      "364   31  management  married  yes\n",
      "393   34  management  married  yes\n",
      "413   34  management  married  yes\n"
     ]
    }
   ],
   "source": [
    "print('''Below is the list of ''', len(finallist), '''clients who work in Management Category\\n\n",
    "and are in age range of 30 to 35\\n\n",
    "and also are married''', \"\\n\\n\\n\", finallist)"
   ]
  },
  {
   "cell_type": "code",
   "execution_count": null,
   "metadata": {},
   "outputs": [],
   "source": [
    "# Tasks Performed - Imported the CSV file,\n",
    "\n",
    "# sorted the data for age range of 30 to 35,\n",
    "# sorted it for mangement category\n",
    "# sorted it for marital status\n",
    "\n",
    "# reason for selecting this variable being;\n",
    "# their age bracket shows they are well educated as at a small age of 30-35 they are working in management role,\n",
    "# and as working in management role their earning will be fair enough for repayment of loan,\n",
    "# lastly they being married, they seek stability in their life, and not to become defaulters.\n",
    "\n",
    "# This makes them the ideal candidate for loan!"
   ]
  },
  {
   "cell_type": "code",
   "execution_count": 58,
   "metadata": {},
   "outputs": [],
   "source": [
    "import math"
   ]
  },
  {
   "cell_type": "code",
   "execution_count": 59,
   "metadata": {},
   "outputs": [],
   "source": [
    "age_max = bankdata['age'].max()"
   ]
  },
  {
   "cell_type": "code",
   "execution_count": 60,
   "metadata": {},
   "outputs": [],
   "source": [
    "age_min = bankdata['age'].min()"
   ]
  },
  {
   "cell_type": "code",
   "execution_count": 61,
   "metadata": {},
   "outputs": [],
   "source": [
    "age_mean = bankdata['age'].mean()"
   ]
  },
  {
   "cell_type": "code",
   "execution_count": 78,
   "metadata": {},
   "outputs": [
    {
     "name": "stdout",
     "output_type": "stream",
     "text": [
      "Maximum Age:  80 \n",
      " Minimum Age:  19 \n",
      " Age Mean Value:  39.41387024608501\n"
     ]
    }
   ],
   "source": [
    "print('Maximum Age: ',age_max, '\\n','Minimum Age: ', age_min, '\\n','Age Mean Value: ', age_mean)"
   ]
  },
  {
   "cell_type": "code",
   "execution_count": 81,
   "metadata": {},
   "outputs": [
    {
     "name": "stdout",
     "output_type": "stream",
     "text": [
      "Please Enter Age: 29\n",
      "Enter Job Role \n",
      "M for Management\n",
      "BC for Blue Collar\n",
      "S for Student\n",
      "T for technician\n",
      "SE for Self-Employed\n",
      "A for Administration\n",
      ">>>BC\n",
      "Marital Status \n",
      "M for Married\n",
      "S for Single\n",
      "D for Divorsed\n",
      ">>>D\n",
      "Sorry! You are not Eligible for Loan\n"
     ]
    }
   ],
   "source": [
    "Age = int(input(\"Please Enter Age: \"))\n",
    "Job = str(input(\"Enter Job Role \\n\"\n",
    "                \"M for Management\\n\"\n",
    "                \"BC for Blue Collar\\n\"\n",
    "                \"S for Student\\n\"\n",
    "                \"T for technician\\n\"\n",
    "                \"SE for Self-Employed\\n\"\n",
    "                \"A for Administration\\n\"\n",
    "                \">>>\"))\n",
    "marital = str(input(\"Marital Status \\n\"\n",
    "                \"M for Married\\n\"\n",
    "                \"S for Single\\n\"\n",
    "                \"D for Divorsed\\n\"\n",
    "                \">>>\"))\n",
    "\n",
    "if Age >=35:\n",
    "    print(\"You are eligible for loan\")\n",
    "    if Age <=30:\n",
    "        print(\"Your Age is below accepted Age range\")\n",
    "elif Job == \"M\":\n",
    "    print(\"You are eligible for loan\")\n",
    "    if Job != \"M\":\n",
    "        print(\"Your Age is below accepted Age range\")\n",
    "elif marital == \"M\":\n",
    "    print(\"You are eligible for loan\")\n",
    "    if marital != \"M\":\n",
    "        print(\"Applicant must be Married\")\n",
    "else:\n",
    "    print(\"Sorry! You are not Eligible for Loan\")"
   ]
  },
  {
   "cell_type": "code",
   "execution_count": null,
   "metadata": {},
   "outputs": [],
   "source": []
  }
 ],
 "metadata": {
  "kernelspec": {
   "display_name": "Python 3",
   "language": "python",
   "name": "python3"
  },
  "language_info": {
   "codemirror_mode": {
    "name": "ipython",
    "version": 3
   },
   "file_extension": ".py",
   "mimetype": "text/x-python",
   "name": "python",
   "nbconvert_exporter": "python",
   "pygments_lexer": "ipython3",
   "version": "3.7.4"
  }
 },
 "nbformat": 4,
 "nbformat_minor": 2
}
