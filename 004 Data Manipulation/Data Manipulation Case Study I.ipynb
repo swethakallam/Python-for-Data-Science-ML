{
 "cells": [
  {
   "cell_type": "code",
   "execution_count": 34,
   "metadata": {},
   "outputs": [],
   "source": [
    "# DATA MANIPULATION - CASE STUDY I"
   ]
  },
  {
   "cell_type": "code",
   "execution_count": 1,
   "metadata": {},
   "outputs": [],
   "source": [
    "# Imported Modules\n",
    "import pandas as pd\n",
    "import numpy as np\n",
    "import matplotlib\n",
    "import seaborn as sns\n",
    "from numpy import mean\n",
    "from numpy import std\n",
    "from numpy.random import randn\n",
    "from numpy.random import seed\n",
    "from matplotlib import pyplot"
   ]
  },
  {
   "cell_type": "code",
   "execution_count": 2,
   "metadata": {},
   "outputs": [],
   "source": [
    "# Import Dataframe\n",
    "holly_movie = pd.read_csv('HollywoodMovies.csv')"
   ]
  },
  {
   "cell_type": "code",
   "execution_count": 3,
   "metadata": {},
   "outputs": [
    {
     "data": {
      "text/html": [
       "<div>\n",
       "<style scoped>\n",
       "    .dataframe tbody tr th:only-of-type {\n",
       "        vertical-align: middle;\n",
       "    }\n",
       "\n",
       "    .dataframe tbody tr th {\n",
       "        vertical-align: top;\n",
       "    }\n",
       "\n",
       "    .dataframe thead th {\n",
       "        text-align: right;\n",
       "    }\n",
       "</style>\n",
       "<table border=\"1\" class=\"dataframe\">\n",
       "  <thead>\n",
       "    <tr style=\"text-align: right;\">\n",
       "      <th></th>\n",
       "      <th>Movie</th>\n",
       "      <th>LeadStudio</th>\n",
       "      <th>RottenTomatoes</th>\n",
       "      <th>AudienceScore</th>\n",
       "      <th>Story</th>\n",
       "      <th>Genre</th>\n",
       "      <th>TheatersOpenWeek</th>\n",
       "      <th>OpeningWeekend</th>\n",
       "      <th>BOAvgOpenWeekend</th>\n",
       "      <th>DomesticGross</th>\n",
       "      <th>ForeignGross</th>\n",
       "      <th>WorldGross</th>\n",
       "      <th>Budget</th>\n",
       "      <th>Profitability</th>\n",
       "      <th>OpenProfit</th>\n",
       "      <th>Year</th>\n",
       "    </tr>\n",
       "  </thead>\n",
       "  <tbody>\n",
       "    <tr>\n",
       "      <td>0</td>\n",
       "      <td>Spider-Man 3</td>\n",
       "      <td>Sony</td>\n",
       "      <td>61.0</td>\n",
       "      <td>54.0</td>\n",
       "      <td>Metamorphosis</td>\n",
       "      <td>Action</td>\n",
       "      <td>4252.0</td>\n",
       "      <td>151.10</td>\n",
       "      <td>35540.0</td>\n",
       "      <td>336.53</td>\n",
       "      <td>554.34</td>\n",
       "      <td>890.87</td>\n",
       "      <td>258.0</td>\n",
       "      <td>345.30</td>\n",
       "      <td>58.57</td>\n",
       "      <td>2007</td>\n",
       "    </tr>\n",
       "    <tr>\n",
       "      <td>1</td>\n",
       "      <td>Shrek the Third</td>\n",
       "      <td>Paramount</td>\n",
       "      <td>42.0</td>\n",
       "      <td>57.0</td>\n",
       "      <td>Quest</td>\n",
       "      <td>Animation</td>\n",
       "      <td>4122.0</td>\n",
       "      <td>121.60</td>\n",
       "      <td>29507.0</td>\n",
       "      <td>322.72</td>\n",
       "      <td>476.24</td>\n",
       "      <td>798.96</td>\n",
       "      <td>160.0</td>\n",
       "      <td>499.35</td>\n",
       "      <td>76.00</td>\n",
       "      <td>2007</td>\n",
       "    </tr>\n",
       "    <tr>\n",
       "      <td>2</td>\n",
       "      <td>Transformers</td>\n",
       "      <td>Paramount</td>\n",
       "      <td>57.0</td>\n",
       "      <td>89.0</td>\n",
       "      <td>Monster Force</td>\n",
       "      <td>Action</td>\n",
       "      <td>4011.0</td>\n",
       "      <td>70.50</td>\n",
       "      <td>17577.0</td>\n",
       "      <td>319.25</td>\n",
       "      <td>390.46</td>\n",
       "      <td>709.71</td>\n",
       "      <td>150.0</td>\n",
       "      <td>473.14</td>\n",
       "      <td>47.00</td>\n",
       "      <td>2007</td>\n",
       "    </tr>\n",
       "    <tr>\n",
       "      <td>3</td>\n",
       "      <td>Pirates of the Caribbean: At World's End</td>\n",
       "      <td>Disney</td>\n",
       "      <td>45.0</td>\n",
       "      <td>74.0</td>\n",
       "      <td>Rescue</td>\n",
       "      <td>Action</td>\n",
       "      <td>4362.0</td>\n",
       "      <td>114.70</td>\n",
       "      <td>26302.0</td>\n",
       "      <td>309.42</td>\n",
       "      <td>654.00</td>\n",
       "      <td>963.42</td>\n",
       "      <td>300.0</td>\n",
       "      <td>321.14</td>\n",
       "      <td>38.23</td>\n",
       "      <td>2007</td>\n",
       "    </tr>\n",
       "    <tr>\n",
       "      <td>4</td>\n",
       "      <td>Harry Potter and the Order of the Phoenix</td>\n",
       "      <td>Warner Bros</td>\n",
       "      <td>78.0</td>\n",
       "      <td>82.0</td>\n",
       "      <td>Quest</td>\n",
       "      <td>Adventure</td>\n",
       "      <td>4285.0</td>\n",
       "      <td>77.10</td>\n",
       "      <td>17998.0</td>\n",
       "      <td>292.00</td>\n",
       "      <td>647.88</td>\n",
       "      <td>939.89</td>\n",
       "      <td>150.0</td>\n",
       "      <td>626.59</td>\n",
       "      <td>51.40</td>\n",
       "      <td>2007</td>\n",
       "    </tr>\n",
       "    <tr>\n",
       "      <td>...</td>\n",
       "      <td>...</td>\n",
       "      <td>...</td>\n",
       "      <td>...</td>\n",
       "      <td>...</td>\n",
       "      <td>...</td>\n",
       "      <td>...</td>\n",
       "      <td>...</td>\n",
       "      <td>...</td>\n",
       "      <td>...</td>\n",
       "      <td>...</td>\n",
       "      <td>...</td>\n",
       "      <td>...</td>\n",
       "      <td>...</td>\n",
       "      <td>...</td>\n",
       "      <td>...</td>\n",
       "      <td>...</td>\n",
       "    </tr>\n",
       "    <tr>\n",
       "      <td>965</td>\n",
       "      <td>The Canyons</td>\n",
       "      <td>IFC</td>\n",
       "      <td>22.0</td>\n",
       "      <td>NaN</td>\n",
       "      <td>NaN</td>\n",
       "      <td>NaN</td>\n",
       "      <td>1.0</td>\n",
       "      <td>0.01</td>\n",
       "      <td>13351.0</td>\n",
       "      <td>0.06</td>\n",
       "      <td>0.14</td>\n",
       "      <td>0.19</td>\n",
       "      <td>NaN</td>\n",
       "      <td>77.21</td>\n",
       "      <td>NaN</td>\n",
       "      <td>2013</td>\n",
       "    </tr>\n",
       "    <tr>\n",
       "      <td>966</td>\n",
       "      <td>The Call</td>\n",
       "      <td>TriStar</td>\n",
       "      <td>43.0</td>\n",
       "      <td>66.0</td>\n",
       "      <td>NaN</td>\n",
       "      <td>NaN</td>\n",
       "      <td>2507.0</td>\n",
       "      <td>17.12</td>\n",
       "      <td>6828.0</td>\n",
       "      <td>51.87</td>\n",
       "      <td>16.70</td>\n",
       "      <td>68.57</td>\n",
       "      <td>13.0</td>\n",
       "      <td>527.48</td>\n",
       "      <td>131.69</td>\n",
       "      <td>2013</td>\n",
       "    </tr>\n",
       "    <tr>\n",
       "      <td>967</td>\n",
       "      <td>The English Teacher</td>\n",
       "      <td>Cinedigm Entertainment</td>\n",
       "      <td>42.0</td>\n",
       "      <td>NaN</td>\n",
       "      <td>NaN</td>\n",
       "      <td>NaN</td>\n",
       "      <td>2.0</td>\n",
       "      <td>0.01</td>\n",
       "      <td>3001.0</td>\n",
       "      <td>0.10</td>\n",
       "      <td>0.06</td>\n",
       "      <td>0.10</td>\n",
       "      <td>NaN</td>\n",
       "      <td>NaN</td>\n",
       "      <td>NaN</td>\n",
       "      <td>2013</td>\n",
       "    </tr>\n",
       "    <tr>\n",
       "      <td>968</td>\n",
       "      <td>John Dies at the End</td>\n",
       "      <td>Magnolia</td>\n",
       "      <td>61.0</td>\n",
       "      <td>53.0</td>\n",
       "      <td>NaN</td>\n",
       "      <td>NaN</td>\n",
       "      <td>1.0</td>\n",
       "      <td>0.01</td>\n",
       "      <td>12467.0</td>\n",
       "      <td>0.14</td>\n",
       "      <td>NaN</td>\n",
       "      <td>0.14</td>\n",
       "      <td>1.0</td>\n",
       "      <td>14.20</td>\n",
       "      <td>1.00</td>\n",
       "      <td>2013</td>\n",
       "    </tr>\n",
       "    <tr>\n",
       "      <td>969</td>\n",
       "      <td>Lovelace</td>\n",
       "      <td>Radius-TWC</td>\n",
       "      <td>55.0</td>\n",
       "      <td>37.0</td>\n",
       "      <td>NaN</td>\n",
       "      <td>Biography</td>\n",
       "      <td>118.0</td>\n",
       "      <td>0.18</td>\n",
       "      <td>1564.0</td>\n",
       "      <td>0.36</td>\n",
       "      <td>1.17</td>\n",
       "      <td>1.52</td>\n",
       "      <td>10.0</td>\n",
       "      <td>15.25</td>\n",
       "      <td>1.80</td>\n",
       "      <td>2013</td>\n",
       "    </tr>\n",
       "  </tbody>\n",
       "</table>\n",
       "<p>970 rows × 16 columns</p>\n",
       "</div>"
      ],
      "text/plain": [
       "                                         Movie              LeadStudio  \\\n",
       "0                                 Spider-Man 3                    Sony   \n",
       "1                              Shrek the Third               Paramount   \n",
       "2                                 Transformers               Paramount   \n",
       "3     Pirates of the Caribbean: At World's End                  Disney   \n",
       "4    Harry Potter and the Order of the Phoenix             Warner Bros   \n",
       "..                                         ...                     ...   \n",
       "965                                The Canyons                     IFC   \n",
       "966                                   The Call                 TriStar   \n",
       "967                        The English Teacher  Cinedigm Entertainment   \n",
       "968                       John Dies at the End                Magnolia   \n",
       "969                                   Lovelace              Radius-TWC   \n",
       "\n",
       "     RottenTomatoes  AudienceScore          Story      Genre  \\\n",
       "0              61.0           54.0  Metamorphosis     Action   \n",
       "1              42.0           57.0          Quest  Animation   \n",
       "2              57.0           89.0  Monster Force     Action   \n",
       "3              45.0           74.0         Rescue     Action   \n",
       "4              78.0           82.0          Quest  Adventure   \n",
       "..              ...            ...            ...        ...   \n",
       "965            22.0            NaN            NaN        NaN   \n",
       "966            43.0           66.0            NaN        NaN   \n",
       "967            42.0            NaN            NaN        NaN   \n",
       "968            61.0           53.0            NaN        NaN   \n",
       "969            55.0           37.0            NaN  Biography   \n",
       "\n",
       "     TheatersOpenWeek  OpeningWeekend  BOAvgOpenWeekend  DomesticGross  \\\n",
       "0              4252.0          151.10           35540.0         336.53   \n",
       "1              4122.0          121.60           29507.0         322.72   \n",
       "2              4011.0           70.50           17577.0         319.25   \n",
       "3              4362.0          114.70           26302.0         309.42   \n",
       "4              4285.0           77.10           17998.0         292.00   \n",
       "..                ...             ...               ...            ...   \n",
       "965               1.0            0.01           13351.0           0.06   \n",
       "966            2507.0           17.12            6828.0          51.87   \n",
       "967               2.0            0.01            3001.0           0.10   \n",
       "968               1.0            0.01           12467.0           0.14   \n",
       "969             118.0            0.18            1564.0           0.36   \n",
       "\n",
       "     ForeignGross  WorldGross  Budget  Profitability  OpenProfit  Year  \n",
       "0          554.34      890.87   258.0         345.30       58.57  2007  \n",
       "1          476.24      798.96   160.0         499.35       76.00  2007  \n",
       "2          390.46      709.71   150.0         473.14       47.00  2007  \n",
       "3          654.00      963.42   300.0         321.14       38.23  2007  \n",
       "4          647.88      939.89   150.0         626.59       51.40  2007  \n",
       "..            ...         ...     ...            ...         ...   ...  \n",
       "965          0.14        0.19     NaN          77.21         NaN  2013  \n",
       "966         16.70       68.57    13.0         527.48      131.69  2013  \n",
       "967          0.06        0.10     NaN            NaN         NaN  2013  \n",
       "968           NaN        0.14     1.0          14.20        1.00  2013  \n",
       "969          1.17        1.52    10.0          15.25        1.80  2013  \n",
       "\n",
       "[970 rows x 16 columns]"
      ]
     },
     "execution_count": 3,
     "metadata": {},
     "output_type": "execute_result"
    }
   ],
   "source": [
    "# Printed Dataframe\n",
    "holly_movie"
   ]
  },
  {
   "cell_type": "code",
   "execution_count": 4,
   "metadata": {},
   "outputs": [
    {
     "data": {
      "text/plain": [
       "970"
      ]
     },
     "execution_count": 4,
     "metadata": {},
     "output_type": "execute_result"
    }
   ],
   "source": [
    "# Check Length of records which are = 970\n",
    "len(holly_movie)"
   ]
  },
  {
   "cell_type": "code",
   "execution_count": 5,
   "metadata": {},
   "outputs": [
    {
     "data": {
      "text/plain": [
       "Index(['Movie', 'LeadStudio', 'RottenTomatoes', 'AudienceScore', 'Story',\n",
       "       'Genre', 'TheatersOpenWeek', 'OpeningWeekend', 'BOAvgOpenWeekend',\n",
       "       'DomesticGross', 'ForeignGross', 'WorldGross', 'Budget',\n",
       "       'Profitability', 'OpenProfit', 'Year'],\n",
       "      dtype='object')"
      ]
     },
     "execution_count": 5,
     "metadata": {},
     "output_type": "execute_result"
    }
   ],
   "source": [
    "# Check Columns Headings\n",
    "holly_movie.columns"
   ]
  },
  {
   "cell_type": "code",
   "execution_count": 6,
   "metadata": {},
   "outputs": [
    {
     "data": {
      "text/plain": [
       "(970, 16)"
      ]
     },
     "execution_count": 6,
     "metadata": {},
     "output_type": "execute_result"
    }
   ],
   "source": [
    "# Check number of Rows and Columns\n",
    "holly_movie.shape"
   ]
  },
  {
   "cell_type": "code",
   "execution_count": 7,
   "metadata": {},
   "outputs": [
    {
     "data": {
      "text/plain": [
       "16"
      ]
     },
     "execution_count": 7,
     "metadata": {},
     "output_type": "execute_result"
    }
   ],
   "source": [
    "# Alternativly below code also works for checking number of COLUMNS\n",
    "len(holly_movie.columns)"
   ]
  },
  {
   "cell_type": "code",
   "execution_count": 8,
   "metadata": {},
   "outputs": [
    {
     "data": {
      "text/plain": [
       "970"
      ]
     },
     "execution_count": 8,
     "metadata": {},
     "output_type": "execute_result"
    }
   ],
   "source": [
    "# Alternatively below code works for checking numbers of ROWS\n",
    "len(holly_movie.index)"
   ]
  },
  {
   "cell_type": "code",
   "execution_count": 9,
   "metadata": {},
   "outputs": [
    {
     "data": {
      "text/plain": [
       "16"
      ]
     },
     "execution_count": 9,
     "metadata": {},
     "output_type": "execute_result"
    }
   ],
   "source": [
    "# Alternativly below code also works for checking number of COLUMNS\n",
    "len(list(holly_movie))"
   ]
  },
  {
   "cell_type": "code",
   "execution_count": 10,
   "metadata": {},
   "outputs": [
    {
     "data": {
      "text/plain": [
       "970"
      ]
     },
     "execution_count": 10,
     "metadata": {},
     "output_type": "execute_result"
    }
   ],
   "source": [
    "# Alternatively below code also works for finding number of ROWS and COLUMNS \n",
    "holly_movie.shape[1]\n",
    "holly_movie.shape[0]"
   ]
  },
  {
   "cell_type": "code",
   "execution_count": 11,
   "metadata": {},
   "outputs": [
    {
     "data": {
      "text/plain": [
       "<bound method DataFrame.info of                                          Movie              LeadStudio  \\\n",
       "0                                 Spider-Man 3                    Sony   \n",
       "1                              Shrek the Third               Paramount   \n",
       "2                                 Transformers               Paramount   \n",
       "3     Pirates of the Caribbean: At World's End                  Disney   \n",
       "4    Harry Potter and the Order of the Phoenix             Warner Bros   \n",
       "..                                         ...                     ...   \n",
       "965                                The Canyons                     IFC   \n",
       "966                                   The Call                 TriStar   \n",
       "967                        The English Teacher  Cinedigm Entertainment   \n",
       "968                       John Dies at the End                Magnolia   \n",
       "969                                   Lovelace              Radius-TWC   \n",
       "\n",
       "     RottenTomatoes  AudienceScore          Story      Genre  \\\n",
       "0              61.0           54.0  Metamorphosis     Action   \n",
       "1              42.0           57.0          Quest  Animation   \n",
       "2              57.0           89.0  Monster Force     Action   \n",
       "3              45.0           74.0         Rescue     Action   \n",
       "4              78.0           82.0          Quest  Adventure   \n",
       "..              ...            ...            ...        ...   \n",
       "965            22.0            NaN            NaN        NaN   \n",
       "966            43.0           66.0            NaN        NaN   \n",
       "967            42.0            NaN            NaN        NaN   \n",
       "968            61.0           53.0            NaN        NaN   \n",
       "969            55.0           37.0            NaN  Biography   \n",
       "\n",
       "     TheatersOpenWeek  OpeningWeekend  BOAvgOpenWeekend  DomesticGross  \\\n",
       "0              4252.0          151.10           35540.0         336.53   \n",
       "1              4122.0          121.60           29507.0         322.72   \n",
       "2              4011.0           70.50           17577.0         319.25   \n",
       "3              4362.0          114.70           26302.0         309.42   \n",
       "4              4285.0           77.10           17998.0         292.00   \n",
       "..                ...             ...               ...            ...   \n",
       "965               1.0            0.01           13351.0           0.06   \n",
       "966            2507.0           17.12            6828.0          51.87   \n",
       "967               2.0            0.01            3001.0           0.10   \n",
       "968               1.0            0.01           12467.0           0.14   \n",
       "969             118.0            0.18            1564.0           0.36   \n",
       "\n",
       "     ForeignGross  WorldGross  Budget  Profitability  OpenProfit  Year  \n",
       "0          554.34      890.87   258.0         345.30       58.57  2007  \n",
       "1          476.24      798.96   160.0         499.35       76.00  2007  \n",
       "2          390.46      709.71   150.0         473.14       47.00  2007  \n",
       "3          654.00      963.42   300.0         321.14       38.23  2007  \n",
       "4          647.88      939.89   150.0         626.59       51.40  2007  \n",
       "..            ...         ...     ...            ...         ...   ...  \n",
       "965          0.14        0.19     NaN          77.21         NaN  2013  \n",
       "966         16.70       68.57    13.0         527.48      131.69  2013  \n",
       "967          0.06        0.10     NaN            NaN         NaN  2013  \n",
       "968           NaN        0.14     1.0          14.20        1.00  2013  \n",
       "969          1.17        1.52    10.0          15.25        1.80  2013  \n",
       "\n",
       "[970 rows x 16 columns]>"
      ]
     },
     "execution_count": 11,
     "metadata": {},
     "output_type": "execute_result"
    }
   ],
   "source": [
    "# Shows all the information about the DATAFRAME\n",
    "holly_movie.info"
   ]
  },
  {
   "cell_type": "code",
   "execution_count": 12,
   "metadata": {},
   "outputs": [],
   "source": [
    "quest_movies = holly_movie[holly_movie['Story'].astype(str).str.contains('Quest')]"
   ]
  },
  {
   "cell_type": "code",
   "execution_count": 13,
   "metadata": {},
   "outputs": [
    {
     "data": {
      "text/html": [
       "<div>\n",
       "<style scoped>\n",
       "    .dataframe tbody tr th:only-of-type {\n",
       "        vertical-align: middle;\n",
       "    }\n",
       "\n",
       "    .dataframe tbody tr th {\n",
       "        vertical-align: top;\n",
       "    }\n",
       "\n",
       "    .dataframe thead th {\n",
       "        text-align: right;\n",
       "    }\n",
       "</style>\n",
       "<table border=\"1\" class=\"dataframe\">\n",
       "  <thead>\n",
       "    <tr style=\"text-align: right;\">\n",
       "      <th></th>\n",
       "      <th>Movie</th>\n",
       "      <th>LeadStudio</th>\n",
       "      <th>RottenTomatoes</th>\n",
       "      <th>AudienceScore</th>\n",
       "      <th>Story</th>\n",
       "      <th>Genre</th>\n",
       "      <th>TheatersOpenWeek</th>\n",
       "      <th>OpeningWeekend</th>\n",
       "      <th>BOAvgOpenWeekend</th>\n",
       "      <th>DomesticGross</th>\n",
       "      <th>ForeignGross</th>\n",
       "      <th>WorldGross</th>\n",
       "      <th>Budget</th>\n",
       "      <th>Profitability</th>\n",
       "      <th>OpenProfit</th>\n",
       "      <th>Year</th>\n",
       "    </tr>\n",
       "  </thead>\n",
       "  <tbody>\n",
       "    <tr>\n",
       "      <td>1</td>\n",
       "      <td>Shrek the Third</td>\n",
       "      <td>Paramount</td>\n",
       "      <td>42.0</td>\n",
       "      <td>57.0</td>\n",
       "      <td>Quest</td>\n",
       "      <td>Animation</td>\n",
       "      <td>4122.0</td>\n",
       "      <td>121.60</td>\n",
       "      <td>29507.0</td>\n",
       "      <td>322.720</td>\n",
       "      <td>476.240</td>\n",
       "      <td>798.960</td>\n",
       "      <td>160.0</td>\n",
       "      <td>499.35</td>\n",
       "      <td>76.00</td>\n",
       "      <td>2007</td>\n",
       "    </tr>\n",
       "    <tr>\n",
       "      <td>4</td>\n",
       "      <td>Harry Potter and the Order of the Phoenix</td>\n",
       "      <td>Warner Bros</td>\n",
       "      <td>78.0</td>\n",
       "      <td>82.0</td>\n",
       "      <td>Quest</td>\n",
       "      <td>Adventure</td>\n",
       "      <td>4285.0</td>\n",
       "      <td>77.10</td>\n",
       "      <td>17998.0</td>\n",
       "      <td>292.000</td>\n",
       "      <td>647.880</td>\n",
       "      <td>939.890</td>\n",
       "      <td>150.0</td>\n",
       "      <td>626.59</td>\n",
       "      <td>51.40</td>\n",
       "      <td>2007</td>\n",
       "    </tr>\n",
       "    <tr>\n",
       "      <td>5</td>\n",
       "      <td>I Am Legend</td>\n",
       "      <td>Warner Bros</td>\n",
       "      <td>69.0</td>\n",
       "      <td>69.0</td>\n",
       "      <td>Quest</td>\n",
       "      <td>Thriller</td>\n",
       "      <td>3606.0</td>\n",
       "      <td>77.20</td>\n",
       "      <td>21411.0</td>\n",
       "      <td>256.390</td>\n",
       "      <td>328.960</td>\n",
       "      <td>585.350</td>\n",
       "      <td>150.0</td>\n",
       "      <td>390.23</td>\n",
       "      <td>51.47</td>\n",
       "      <td>2007</td>\n",
       "    </tr>\n",
       "    <tr>\n",
       "      <td>28</td>\n",
       "      <td>Meet the Robinsons</td>\n",
       "      <td>Disney</td>\n",
       "      <td>66.0</td>\n",
       "      <td>75.0</td>\n",
       "      <td>Quest</td>\n",
       "      <td>Animation</td>\n",
       "      <td>3413.0</td>\n",
       "      <td>25.10</td>\n",
       "      <td>7361.0</td>\n",
       "      <td>97.820</td>\n",
       "      <td>71.510</td>\n",
       "      <td>169.330</td>\n",
       "      <td>100.0</td>\n",
       "      <td>169.33</td>\n",
       "      <td>25.10</td>\n",
       "      <td>2007</td>\n",
       "    </tr>\n",
       "    <tr>\n",
       "      <td>49</td>\n",
       "      <td>The Kingdom</td>\n",
       "      <td>NaN</td>\n",
       "      <td>52.0</td>\n",
       "      <td>78.0</td>\n",
       "      <td>Quest</td>\n",
       "      <td>Action</td>\n",
       "      <td>2793.0</td>\n",
       "      <td>17.10</td>\n",
       "      <td>6135.0</td>\n",
       "      <td>47.540</td>\n",
       "      <td>39.120</td>\n",
       "      <td>86.660</td>\n",
       "      <td>80.0</td>\n",
       "      <td>108.32</td>\n",
       "      <td>21.38</td>\n",
       "      <td>2007</td>\n",
       "    </tr>\n",
       "    <tr>\n",
       "      <td>56</td>\n",
       "      <td>Hitman</td>\n",
       "      <td>Fox</td>\n",
       "      <td>15.0</td>\n",
       "      <td>61.0</td>\n",
       "      <td>Quest</td>\n",
       "      <td>Action</td>\n",
       "      <td>2458.0</td>\n",
       "      <td>13.20</td>\n",
       "      <td>5362.0</td>\n",
       "      <td>39.690</td>\n",
       "      <td>60.280</td>\n",
       "      <td>99.970</td>\n",
       "      <td>17.5</td>\n",
       "      <td>571.23</td>\n",
       "      <td>75.43</td>\n",
       "      <td>2007</td>\n",
       "    </tr>\n",
       "    <tr>\n",
       "      <td>58</td>\n",
       "      <td>Stardust</td>\n",
       "      <td>Paramount</td>\n",
       "      <td>76.0</td>\n",
       "      <td>86.0</td>\n",
       "      <td>Quest</td>\n",
       "      <td>Adventure</td>\n",
       "      <td>2540.0</td>\n",
       "      <td>9.16</td>\n",
       "      <td>3610.0</td>\n",
       "      <td>38.630</td>\n",
       "      <td>96.930</td>\n",
       "      <td>135.560</td>\n",
       "      <td>70.0</td>\n",
       "      <td>193.66</td>\n",
       "      <td>13.09</td>\n",
       "      <td>2007</td>\n",
       "    </tr>\n",
       "    <tr>\n",
       "      <td>70</td>\n",
       "      <td>The Reaping</td>\n",
       "      <td>NaN</td>\n",
       "      <td>9.0</td>\n",
       "      <td>53.0</td>\n",
       "      <td>Quest</td>\n",
       "      <td>Horror</td>\n",
       "      <td>2603.0</td>\n",
       "      <td>10.00</td>\n",
       "      <td>3851.0</td>\n",
       "      <td>25.130</td>\n",
       "      <td>37.640</td>\n",
       "      <td>62.770</td>\n",
       "      <td>40.0</td>\n",
       "      <td>156.93</td>\n",
       "      <td>25.00</td>\n",
       "      <td>2007</td>\n",
       "    </tr>\n",
       "    <tr>\n",
       "      <td>84</td>\n",
       "      <td>Lions for Lambs</td>\n",
       "      <td>Independent</td>\n",
       "      <td>27.0</td>\n",
       "      <td>48.0</td>\n",
       "      <td>Quest</td>\n",
       "      <td>Drama</td>\n",
       "      <td>2215.0</td>\n",
       "      <td>6.70</td>\n",
       "      <td>3025.0</td>\n",
       "      <td>15.000</td>\n",
       "      <td>48.210</td>\n",
       "      <td>63.220</td>\n",
       "      <td>35.0</td>\n",
       "      <td>180.61</td>\n",
       "      <td>19.14</td>\n",
       "      <td>2007</td>\n",
       "    </tr>\n",
       "    <tr>\n",
       "      <td>114</td>\n",
       "      <td>The Mummy: Tomb of the Dragon Emperor</td>\n",
       "      <td>Universal</td>\n",
       "      <td>14.0</td>\n",
       "      <td>40.0</td>\n",
       "      <td>Quest</td>\n",
       "      <td>Action</td>\n",
       "      <td>3760.0</td>\n",
       "      <td>40.50</td>\n",
       "      <td>10760.0</td>\n",
       "      <td>102.490</td>\n",
       "      <td>298.640</td>\n",
       "      <td>401.130</td>\n",
       "      <td>145.0</td>\n",
       "      <td>276.64</td>\n",
       "      <td>27.93</td>\n",
       "      <td>2008</td>\n",
       "    </tr>\n",
       "    <tr>\n",
       "      <td>115</td>\n",
       "      <td>Journey to the Center of the Earth</td>\n",
       "      <td>Warner Bros</td>\n",
       "      <td>61.0</td>\n",
       "      <td>55.0</td>\n",
       "      <td>Quest</td>\n",
       "      <td>Action</td>\n",
       "      <td>2811.0</td>\n",
       "      <td>21.00</td>\n",
       "      <td>7477.0</td>\n",
       "      <td>101.700</td>\n",
       "      <td>140.290</td>\n",
       "      <td>241.990</td>\n",
       "      <td>45.0</td>\n",
       "      <td>537.76</td>\n",
       "      <td>46.67</td>\n",
       "      <td>2008</td>\n",
       "    </tr>\n",
       "    <tr>\n",
       "      <td>135</td>\n",
       "      <td>Fool's Gold</td>\n",
       "      <td>Warner Bros</td>\n",
       "      <td>11.0</td>\n",
       "      <td>53.0</td>\n",
       "      <td>Quest</td>\n",
       "      <td>Adventure</td>\n",
       "      <td>3125.0</td>\n",
       "      <td>21.60</td>\n",
       "      <td>6909.0</td>\n",
       "      <td>70.230</td>\n",
       "      <td>41.000</td>\n",
       "      <td>111.230</td>\n",
       "      <td>72.5</td>\n",
       "      <td>153.42</td>\n",
       "      <td>29.79</td>\n",
       "      <td>2008</td>\n",
       "    </tr>\n",
       "    <tr>\n",
       "      <td>153</td>\n",
       "      <td>Speed Racer</td>\n",
       "      <td>Warner Bros</td>\n",
       "      <td>38.0</td>\n",
       "      <td>61.0</td>\n",
       "      <td>Quest</td>\n",
       "      <td>Action</td>\n",
       "      <td>3606.0</td>\n",
       "      <td>18.60</td>\n",
       "      <td>5174.0</td>\n",
       "      <td>43.950</td>\n",
       "      <td>50.000</td>\n",
       "      <td>93.950</td>\n",
       "      <td>120.0</td>\n",
       "      <td>78.29</td>\n",
       "      <td>15.50</td>\n",
       "      <td>2008</td>\n",
       "    </tr>\n",
       "    <tr>\n",
       "      <td>185</td>\n",
       "      <td>The Bank Job</td>\n",
       "      <td>Independent</td>\n",
       "      <td>78.0</td>\n",
       "      <td>74.0</td>\n",
       "      <td>Quest</td>\n",
       "      <td>Thriller</td>\n",
       "      <td>1603.0</td>\n",
       "      <td>5.94</td>\n",
       "      <td>3702.0</td>\n",
       "      <td>30.060</td>\n",
       "      <td>34.760</td>\n",
       "      <td>64.820</td>\n",
       "      <td>20.0</td>\n",
       "      <td>324.11</td>\n",
       "      <td>29.70</td>\n",
       "      <td>2008</td>\n",
       "    </tr>\n",
       "    <tr>\n",
       "      <td>218</td>\n",
       "      <td>Under the Same Moon</td>\n",
       "      <td>Weinstein</td>\n",
       "      <td>72.0</td>\n",
       "      <td>37.0</td>\n",
       "      <td>Quest</td>\n",
       "      <td>NaN</td>\n",
       "      <td>266.0</td>\n",
       "      <td>2.80</td>\n",
       "      <td>10412.0</td>\n",
       "      <td>12.590</td>\n",
       "      <td>10.720</td>\n",
       "      <td>23.310</td>\n",
       "      <td>1.7</td>\n",
       "      <td>1371.24</td>\n",
       "      <td>164.71</td>\n",
       "      <td>2008</td>\n",
       "    </tr>\n",
       "    <tr>\n",
       "      <td>222</td>\n",
       "      <td>The Longshots</td>\n",
       "      <td>Independent</td>\n",
       "      <td>39.0</td>\n",
       "      <td>39.0</td>\n",
       "      <td>Quest</td>\n",
       "      <td>Comedy</td>\n",
       "      <td>2089.0</td>\n",
       "      <td>4.00</td>\n",
       "      <td>1953.0</td>\n",
       "      <td>11.540</td>\n",
       "      <td>0.230</td>\n",
       "      <td>11.770</td>\n",
       "      <td>30.0</td>\n",
       "      <td>39.22</td>\n",
       "      <td>13.33</td>\n",
       "      <td>2008</td>\n",
       "    </tr>\n",
       "    <tr>\n",
       "      <td>224</td>\n",
       "      <td>Doomsday</td>\n",
       "      <td>Relativity Media</td>\n",
       "      <td>48.0</td>\n",
       "      <td>47.0</td>\n",
       "      <td>Quest</td>\n",
       "      <td>Action</td>\n",
       "      <td>1936.0</td>\n",
       "      <td>4.90</td>\n",
       "      <td>2544.0</td>\n",
       "      <td>11.010</td>\n",
       "      <td>11.200</td>\n",
       "      <td>22.210</td>\n",
       "      <td>33.0</td>\n",
       "      <td>67.30</td>\n",
       "      <td>14.85</td>\n",
       "      <td>2008</td>\n",
       "    </tr>\n",
       "    <tr>\n",
       "      <td>241</td>\n",
       "      <td>Harry Potter and the Half-Blood Prince</td>\n",
       "      <td>Warner Bros</td>\n",
       "      <td>83.0</td>\n",
       "      <td>75.0</td>\n",
       "      <td>Quest</td>\n",
       "      <td>Adventure</td>\n",
       "      <td>4325.0</td>\n",
       "      <td>77.80</td>\n",
       "      <td>17997.0</td>\n",
       "      <td>302.000</td>\n",
       "      <td>632.000</td>\n",
       "      <td>934.000</td>\n",
       "      <td>250.0</td>\n",
       "      <td>373.60</td>\n",
       "      <td>31.12</td>\n",
       "      <td>2009</td>\n",
       "    </tr>\n",
       "    <tr>\n",
       "      <td>250</td>\n",
       "      <td>Ice Age: Dawn of the Dinosaurs</td>\n",
       "      <td>Fox</td>\n",
       "      <td>45.0</td>\n",
       "      <td>72.0</td>\n",
       "      <td>Quest</td>\n",
       "      <td>Animation</td>\n",
       "      <td>4099.0</td>\n",
       "      <td>41.70</td>\n",
       "      <td>10171.0</td>\n",
       "      <td>196.570</td>\n",
       "      <td>690.110</td>\n",
       "      <td>886.680</td>\n",
       "      <td>90.0</td>\n",
       "      <td>985.20</td>\n",
       "      <td>46.33</td>\n",
       "      <td>2009</td>\n",
       "    </tr>\n",
       "    <tr>\n",
       "      <td>252</td>\n",
       "      <td>Night at the Museum: Battle of the Smithsonian</td>\n",
       "      <td>Fox</td>\n",
       "      <td>43.0</td>\n",
       "      <td>60.0</td>\n",
       "      <td>Quest</td>\n",
       "      <td>Action</td>\n",
       "      <td>4096.0</td>\n",
       "      <td>54.20</td>\n",
       "      <td>13226.0</td>\n",
       "      <td>177.200</td>\n",
       "      <td>235.800</td>\n",
       "      <td>413.000</td>\n",
       "      <td>150.0</td>\n",
       "      <td>275.33</td>\n",
       "      <td>36.13</td>\n",
       "      <td>2009</td>\n",
       "    </tr>\n",
       "    <tr>\n",
       "      <td>286</td>\n",
       "      <td>Race to Witch Mountain</td>\n",
       "      <td>Buena Vista</td>\n",
       "      <td>42.0</td>\n",
       "      <td>50.0</td>\n",
       "      <td>Quest</td>\n",
       "      <td>Action</td>\n",
       "      <td>3187.0</td>\n",
       "      <td>24.40</td>\n",
       "      <td>7651.0</td>\n",
       "      <td>67.170</td>\n",
       "      <td>39.210</td>\n",
       "      <td>106.380</td>\n",
       "      <td>50.0</td>\n",
       "      <td>212.76</td>\n",
       "      <td>48.80</td>\n",
       "      <td>2009</td>\n",
       "    </tr>\n",
       "    <tr>\n",
       "      <td>304</td>\n",
       "      <td>Year One</td>\n",
       "      <td>Sony</td>\n",
       "      <td>14.0</td>\n",
       "      <td>31.0</td>\n",
       "      <td>Quest</td>\n",
       "      <td>Adventure</td>\n",
       "      <td>3022.0</td>\n",
       "      <td>19.60</td>\n",
       "      <td>6489.0</td>\n",
       "      <td>43.330</td>\n",
       "      <td>19.020</td>\n",
       "      <td>62.350</td>\n",
       "      <td>60.0</td>\n",
       "      <td>103.92</td>\n",
       "      <td>32.67</td>\n",
       "      <td>2009</td>\n",
       "    </tr>\n",
       "    <tr>\n",
       "      <td>321</td>\n",
       "      <td>Push</td>\n",
       "      <td>Summit</td>\n",
       "      <td>22.0</td>\n",
       "      <td>47.0</td>\n",
       "      <td>Quest</td>\n",
       "      <td>Action</td>\n",
       "      <td>2313.0</td>\n",
       "      <td>10.10</td>\n",
       "      <td>4358.0</td>\n",
       "      <td>31.810</td>\n",
       "      <td>17.040</td>\n",
       "      <td>48.850</td>\n",
       "      <td>38.0</td>\n",
       "      <td>128.55</td>\n",
       "      <td>26.58</td>\n",
       "      <td>2009</td>\n",
       "    </tr>\n",
       "    <tr>\n",
       "      <td>323</td>\n",
       "      <td>The Soloist</td>\n",
       "      <td>Paramount</td>\n",
       "      <td>56.0</td>\n",
       "      <td>59.0</td>\n",
       "      <td>Quest</td>\n",
       "      <td>Drama</td>\n",
       "      <td>2024.0</td>\n",
       "      <td>9.70</td>\n",
       "      <td>4801.0</td>\n",
       "      <td>31.700</td>\n",
       "      <td>6.610</td>\n",
       "      <td>38.310</td>\n",
       "      <td>60.0</td>\n",
       "      <td>63.85</td>\n",
       "      <td>16.17</td>\n",
       "      <td>2009</td>\n",
       "    </tr>\n",
       "    <tr>\n",
       "      <td>339</td>\n",
       "      <td>Astro Boy</td>\n",
       "      <td>Summit</td>\n",
       "      <td>49.0</td>\n",
       "      <td>53.0</td>\n",
       "      <td>Quest</td>\n",
       "      <td>Animation</td>\n",
       "      <td>3014.0</td>\n",
       "      <td>6.70</td>\n",
       "      <td>2224.0</td>\n",
       "      <td>19.550</td>\n",
       "      <td>20.340</td>\n",
       "      <td>39.890</td>\n",
       "      <td>65.0</td>\n",
       "      <td>61.36</td>\n",
       "      <td>10.31</td>\n",
       "      <td>2009</td>\n",
       "    </tr>\n",
       "    <tr>\n",
       "      <td>341</td>\n",
       "      <td>Inkheart</td>\n",
       "      <td>Warner Bros</td>\n",
       "      <td>39.0</td>\n",
       "      <td>51.0</td>\n",
       "      <td>Quest</td>\n",
       "      <td>Adventure</td>\n",
       "      <td>2655.0</td>\n",
       "      <td>7.60</td>\n",
       "      <td>2862.0</td>\n",
       "      <td>17.300</td>\n",
       "      <td>45.140</td>\n",
       "      <td>62.440</td>\n",
       "      <td>60.0</td>\n",
       "      <td>104.07</td>\n",
       "      <td>12.67</td>\n",
       "      <td>2009</td>\n",
       "    </tr>\n",
       "    <tr>\n",
       "      <td>343</td>\n",
       "      <td>The Hurt Locker</td>\n",
       "      <td>Independent</td>\n",
       "      <td>97.0</td>\n",
       "      <td>83.0</td>\n",
       "      <td>Quest</td>\n",
       "      <td>Drama</td>\n",
       "      <td>4.0</td>\n",
       "      <td>0.14</td>\n",
       "      <td>36338.0</td>\n",
       "      <td>17.010</td>\n",
       "      <td>32.210</td>\n",
       "      <td>49.220</td>\n",
       "      <td>15.0</td>\n",
       "      <td>328.13</td>\n",
       "      <td>0.93</td>\n",
       "      <td>2009</td>\n",
       "    </tr>\n",
       "    <tr>\n",
       "      <td>351</td>\n",
       "      <td>Amelia</td>\n",
       "      <td>Independent</td>\n",
       "      <td>21.0</td>\n",
       "      <td>35.0</td>\n",
       "      <td>Quest</td>\n",
       "      <td>Adventure</td>\n",
       "      <td>820.0</td>\n",
       "      <td>3.90</td>\n",
       "      <td>4761.0</td>\n",
       "      <td>14.250</td>\n",
       "      <td>5.400</td>\n",
       "      <td>19.200</td>\n",
       "      <td>40.0</td>\n",
       "      <td>48.00</td>\n",
       "      <td>9.75</td>\n",
       "      <td>2009</td>\n",
       "    </tr>\n",
       "    <tr>\n",
       "      <td>365</td>\n",
       "      <td>Dragonball Evolution</td>\n",
       "      <td>Fox</td>\n",
       "      <td>15.0</td>\n",
       "      <td>28.0</td>\n",
       "      <td>Quest</td>\n",
       "      <td>Action</td>\n",
       "      <td>2181.0</td>\n",
       "      <td>4.80</td>\n",
       "      <td>2181.0</td>\n",
       "      <td>9.360</td>\n",
       "      <td>48.130</td>\n",
       "      <td>58.230</td>\n",
       "      <td>30.0</td>\n",
       "      <td>194.10</td>\n",
       "      <td>16.00</td>\n",
       "      <td>2009</td>\n",
       "    </tr>\n",
       "    <tr>\n",
       "      <td>371</td>\n",
       "      <td>The Road</td>\n",
       "      <td>Weinstein</td>\n",
       "      <td>75.0</td>\n",
       "      <td>65.0</td>\n",
       "      <td>Quest</td>\n",
       "      <td>Adventure</td>\n",
       "      <td>111.0</td>\n",
       "      <td>1.50</td>\n",
       "      <td>13534.0</td>\n",
       "      <td>8.120</td>\n",
       "      <td>19.510</td>\n",
       "      <td>27.630</td>\n",
       "      <td>25.0</td>\n",
       "      <td>110.51</td>\n",
       "      <td>6.00</td>\n",
       "      <td>2009</td>\n",
       "    </tr>\n",
       "    <tr>\n",
       "      <td>372</td>\n",
       "      <td>Taking Woodstock</td>\n",
       "      <td>Focus</td>\n",
       "      <td>48.0</td>\n",
       "      <td>48.0</td>\n",
       "      <td>Quest</td>\n",
       "      <td>Comedy</td>\n",
       "      <td>1393.0</td>\n",
       "      <td>3.50</td>\n",
       "      <td>2482.0</td>\n",
       "      <td>7.460</td>\n",
       "      <td>2.520</td>\n",
       "      <td>9.980</td>\n",
       "      <td>29.0</td>\n",
       "      <td>34.40</td>\n",
       "      <td>12.07</td>\n",
       "      <td>2009</td>\n",
       "    </tr>\n",
       "    <tr>\n",
       "      <td>389</td>\n",
       "      <td>Clash of the Titans</td>\n",
       "      <td>Warner Bros</td>\n",
       "      <td>28.0</td>\n",
       "      <td>48.0</td>\n",
       "      <td>Quest</td>\n",
       "      <td>Action</td>\n",
       "      <td>3777.0</td>\n",
       "      <td>61.20</td>\n",
       "      <td>16213.0</td>\n",
       "      <td>163.210</td>\n",
       "      <td>330.000</td>\n",
       "      <td>493.214</td>\n",
       "      <td>125.0</td>\n",
       "      <td>394.57</td>\n",
       "      <td>48.96</td>\n",
       "      <td>2010</td>\n",
       "    </tr>\n",
       "    <tr>\n",
       "      <td>413</td>\n",
       "      <td>Green Zone</td>\n",
       "      <td>Universal</td>\n",
       "      <td>53.0</td>\n",
       "      <td>60.0</td>\n",
       "      <td>Quest</td>\n",
       "      <td>Action</td>\n",
       "      <td>3003.0</td>\n",
       "      <td>14.30</td>\n",
       "      <td>4765.0</td>\n",
       "      <td>35.050</td>\n",
       "      <td>59.830</td>\n",
       "      <td>94.878</td>\n",
       "      <td>100.0</td>\n",
       "      <td>94.88</td>\n",
       "      <td>14.30</td>\n",
       "      <td>2010</td>\n",
       "    </tr>\n",
       "    <tr>\n",
       "      <td>417</td>\n",
       "      <td>Harry Potter and the Deathly Hallows Part 1</td>\n",
       "      <td>Warner Bros</td>\n",
       "      <td>79.0</td>\n",
       "      <td>87.0</td>\n",
       "      <td>Quest</td>\n",
       "      <td>Adventure</td>\n",
       "      <td>4125.0</td>\n",
       "      <td>125.00</td>\n",
       "      <td>30307.0</td>\n",
       "      <td>295.000</td>\n",
       "      <td>664.300</td>\n",
       "      <td>959.300</td>\n",
       "      <td>125.0</td>\n",
       "      <td>767.44</td>\n",
       "      <td>100.00</td>\n",
       "      <td>2010</td>\n",
       "    </tr>\n",
       "    <tr>\n",
       "      <td>472</td>\n",
       "      <td>The Book of Eli</td>\n",
       "      <td>Independent</td>\n",
       "      <td>48.0</td>\n",
       "      <td>68.0</td>\n",
       "      <td>Quest</td>\n",
       "      <td>Action</td>\n",
       "      <td>3111.0</td>\n",
       "      <td>32.70</td>\n",
       "      <td>10540.0</td>\n",
       "      <td>94.840</td>\n",
       "      <td>62.270</td>\n",
       "      <td>157.107</td>\n",
       "      <td>80.0</td>\n",
       "      <td>196.38</td>\n",
       "      <td>40.88</td>\n",
       "      <td>2010</td>\n",
       "    </tr>\n",
       "    <tr>\n",
       "      <td>474</td>\n",
       "      <td>The Chronicles of Narnia: The Voyage of the Da...</td>\n",
       "      <td>Fox</td>\n",
       "      <td>49.0</td>\n",
       "      <td>63.0</td>\n",
       "      <td>Quest</td>\n",
       "      <td>Adventure</td>\n",
       "      <td>3555.0</td>\n",
       "      <td>24.00</td>\n",
       "      <td>6752.0</td>\n",
       "      <td>104.390</td>\n",
       "      <td>311.300</td>\n",
       "      <td>415.685</td>\n",
       "      <td>155.0</td>\n",
       "      <td>268.18</td>\n",
       "      <td>15.48</td>\n",
       "      <td>2010</td>\n",
       "    </tr>\n",
       "    <tr>\n",
       "      <td>483</td>\n",
       "      <td>The Last Airbender</td>\n",
       "      <td>Paramount</td>\n",
       "      <td>6.0</td>\n",
       "      <td>42.0</td>\n",
       "      <td>Quest</td>\n",
       "      <td>Action</td>\n",
       "      <td>3169.0</td>\n",
       "      <td>40.30</td>\n",
       "      <td>12725.0</td>\n",
       "      <td>131.770</td>\n",
       "      <td>187.940</td>\n",
       "      <td>319.713</td>\n",
       "      <td>150.0</td>\n",
       "      <td>213.14</td>\n",
       "      <td>26.87</td>\n",
       "      <td>2010</td>\n",
       "    </tr>\n",
       "    <tr>\n",
       "      <td>532</td>\n",
       "      <td>Conan the Barbarian</td>\n",
       "      <td>Lionsgate</td>\n",
       "      <td>22.0</td>\n",
       "      <td>34.0</td>\n",
       "      <td>Quest</td>\n",
       "      <td>Action</td>\n",
       "      <td>3015.0</td>\n",
       "      <td>10.02</td>\n",
       "      <td>3324.0</td>\n",
       "      <td>21.300</td>\n",
       "      <td>27.500</td>\n",
       "      <td>48.800</td>\n",
       "      <td>90.0</td>\n",
       "      <td>54.22</td>\n",
       "      <td>11.13</td>\n",
       "      <td>2011</td>\n",
       "    </tr>\n",
       "    <tr>\n",
       "      <td>537</td>\n",
       "      <td>Dolphin Tale</td>\n",
       "      <td>Independent</td>\n",
       "      <td>84.0</td>\n",
       "      <td>81.0</td>\n",
       "      <td>Quest</td>\n",
       "      <td>Drama</td>\n",
       "      <td>3507.0</td>\n",
       "      <td>19.15</td>\n",
       "      <td>5461.0</td>\n",
       "      <td>72.290</td>\n",
       "      <td>23.120</td>\n",
       "      <td>95.410</td>\n",
       "      <td>37.0</td>\n",
       "      <td>257.86</td>\n",
       "      <td>51.76</td>\n",
       "      <td>2011</td>\n",
       "    </tr>\n",
       "    <tr>\n",
       "      <td>553</td>\n",
       "      <td>Hanna</td>\n",
       "      <td>Universal</td>\n",
       "      <td>71.0</td>\n",
       "      <td>67.0</td>\n",
       "      <td>Quest</td>\n",
       "      <td>Action</td>\n",
       "      <td>2535.0</td>\n",
       "      <td>12.37</td>\n",
       "      <td>4880.0</td>\n",
       "      <td>40.260</td>\n",
       "      <td>23.520</td>\n",
       "      <td>63.780</td>\n",
       "      <td>30.0</td>\n",
       "      <td>212.60</td>\n",
       "      <td>41.23</td>\n",
       "      <td>2011</td>\n",
       "    </tr>\n",
       "    <tr>\n",
       "      <td>586</td>\n",
       "      <td>Pirates of the Caribbean:On Stranger Tides</td>\n",
       "      <td>Disney</td>\n",
       "      <td>34.0</td>\n",
       "      <td>61.0</td>\n",
       "      <td>Quest</td>\n",
       "      <td>Action</td>\n",
       "      <td>4155.0</td>\n",
       "      <td>90.15</td>\n",
       "      <td>21697.0</td>\n",
       "      <td>241.070</td>\n",
       "      <td>804.640</td>\n",
       "      <td>1045.710</td>\n",
       "      <td>250.0</td>\n",
       "      <td>418.28</td>\n",
       "      <td>36.06</td>\n",
       "      <td>2011</td>\n",
       "    </tr>\n",
       "    <tr>\n",
       "      <td>588</td>\n",
       "      <td>Puss In Boots</td>\n",
       "      <td>DreamWorks</td>\n",
       "      <td>83.0</td>\n",
       "      <td>76.0</td>\n",
       "      <td>Quest</td>\n",
       "      <td>Animation</td>\n",
       "      <td>3952.0</td>\n",
       "      <td>34.08</td>\n",
       "      <td>8623.0</td>\n",
       "      <td>149.260</td>\n",
       "      <td>405.730</td>\n",
       "      <td>554.990</td>\n",
       "      <td>130.0</td>\n",
       "      <td>426.91</td>\n",
       "      <td>26.22</td>\n",
       "      <td>2011</td>\n",
       "    </tr>\n",
       "    <tr>\n",
       "      <td>593</td>\n",
       "      <td>Rio</td>\n",
       "      <td>Fox</td>\n",
       "      <td>71.0</td>\n",
       "      <td>73.0</td>\n",
       "      <td>Quest</td>\n",
       "      <td>Animation</td>\n",
       "      <td>3826.0</td>\n",
       "      <td>39.23</td>\n",
       "      <td>10252.0</td>\n",
       "      <td>143.620</td>\n",
       "      <td>341.020</td>\n",
       "      <td>484.630</td>\n",
       "      <td>90.0</td>\n",
       "      <td>538.48</td>\n",
       "      <td>43.59</td>\n",
       "      <td>2011</td>\n",
       "    </tr>\n",
       "    <tr>\n",
       "      <td>595</td>\n",
       "      <td>Sanctum</td>\n",
       "      <td>Relativity Media</td>\n",
       "      <td>30.0</td>\n",
       "      <td>39.0</td>\n",
       "      <td>Quest</td>\n",
       "      <td>Action</td>\n",
       "      <td>2787.0</td>\n",
       "      <td>9.40</td>\n",
       "      <td>3390.0</td>\n",
       "      <td>23.210</td>\n",
       "      <td>85.400</td>\n",
       "      <td>108.610</td>\n",
       "      <td>30.0</td>\n",
       "      <td>362.03</td>\n",
       "      <td>31.33</td>\n",
       "      <td>2011</td>\n",
       "    </tr>\n",
       "    <tr>\n",
       "      <td>604</td>\n",
       "      <td>Spy Kids: All The Time in the World</td>\n",
       "      <td>Weinstein</td>\n",
       "      <td>22.0</td>\n",
       "      <td>40.0</td>\n",
       "      <td>Quest</td>\n",
       "      <td>Action</td>\n",
       "      <td>3295.0</td>\n",
       "      <td>11.64</td>\n",
       "      <td>3534.0</td>\n",
       "      <td>38.540</td>\n",
       "      <td>47.030</td>\n",
       "      <td>85.560</td>\n",
       "      <td>27.0</td>\n",
       "      <td>316.90</td>\n",
       "      <td>43.11</td>\n",
       "      <td>2011</td>\n",
       "    </tr>\n",
       "    <tr>\n",
       "      <td>605</td>\n",
       "      <td>Sucker Punch</td>\n",
       "      <td>Legendary Pictures</td>\n",
       "      <td>23.0</td>\n",
       "      <td>48.0</td>\n",
       "      <td>Quest</td>\n",
       "      <td>Action</td>\n",
       "      <td>3033.0</td>\n",
       "      <td>19.06</td>\n",
       "      <td>6284.0</td>\n",
       "      <td>36.390</td>\n",
       "      <td>53.400</td>\n",
       "      <td>89.790</td>\n",
       "      <td>82.0</td>\n",
       "      <td>109.50</td>\n",
       "      <td>23.24</td>\n",
       "      <td>2011</td>\n",
       "    </tr>\n",
       "    <tr>\n",
       "      <td>610</td>\n",
       "      <td>The Adventures of Tintin</td>\n",
       "      <td>Paramount</td>\n",
       "      <td>74.0</td>\n",
       "      <td>78.0</td>\n",
       "      <td>Quest</td>\n",
       "      <td>Adventure</td>\n",
       "      <td>3087.0</td>\n",
       "      <td>9.72</td>\n",
       "      <td>3149.0</td>\n",
       "      <td>77.591</td>\n",
       "      <td>296.402</td>\n",
       "      <td>373.993</td>\n",
       "      <td>130.0</td>\n",
       "      <td>287.69</td>\n",
       "      <td>7.48</td>\n",
       "      <td>2011</td>\n",
       "    </tr>\n",
       "    <tr>\n",
       "      <td>620</td>\n",
       "      <td>The Eagle</td>\n",
       "      <td>Universal</td>\n",
       "      <td>39.0</td>\n",
       "      <td>43.0</td>\n",
       "      <td>Quest</td>\n",
       "      <td>Action</td>\n",
       "      <td>2296.0</td>\n",
       "      <td>8.68</td>\n",
       "      <td>3782.0</td>\n",
       "      <td>19.490</td>\n",
       "      <td>7.630</td>\n",
       "      <td>27.120</td>\n",
       "      <td>25.0</td>\n",
       "      <td>108.48</td>\n",
       "      <td>34.72</td>\n",
       "      <td>2011</td>\n",
       "    </tr>\n",
       "    <tr>\n",
       "      <td>629</td>\n",
       "      <td>The Muppets</td>\n",
       "      <td>Disney</td>\n",
       "      <td>97.0</td>\n",
       "      <td>87.0</td>\n",
       "      <td>Quest</td>\n",
       "      <td>Comedy</td>\n",
       "      <td>3440.0</td>\n",
       "      <td>29.24</td>\n",
       "      <td>8500.0</td>\n",
       "      <td>88.630</td>\n",
       "      <td>76.550</td>\n",
       "      <td>165.180</td>\n",
       "      <td>45.0</td>\n",
       "      <td>367.08</td>\n",
       "      <td>64.98</td>\n",
       "      <td>2011</td>\n",
       "    </tr>\n",
       "    <tr>\n",
       "      <td>641</td>\n",
       "      <td>Transformers: Dark of the Moon</td>\n",
       "      <td>DreamWorks</td>\n",
       "      <td>35.0</td>\n",
       "      <td>67.0</td>\n",
       "      <td>Quest</td>\n",
       "      <td>Action</td>\n",
       "      <td>4088.0</td>\n",
       "      <td>97.85</td>\n",
       "      <td>23937.0</td>\n",
       "      <td>352.390</td>\n",
       "      <td>771.400</td>\n",
       "      <td>1123.790</td>\n",
       "      <td>195.0</td>\n",
       "      <td>576.30</td>\n",
       "      <td>50.18</td>\n",
       "      <td>2011</td>\n",
       "    </tr>\n",
       "    <tr>\n",
       "      <td>649</td>\n",
       "      <td>Winnie The Pooh</td>\n",
       "      <td>Disney</td>\n",
       "      <td>91.0</td>\n",
       "      <td>79.0</td>\n",
       "      <td>Quest</td>\n",
       "      <td>Animation</td>\n",
       "      <td>2405.0</td>\n",
       "      <td>7.86</td>\n",
       "      <td>3267.0</td>\n",
       "      <td>26.690</td>\n",
       "      <td>6.460</td>\n",
       "      <td>33.150</td>\n",
       "      <td>30.0</td>\n",
       "      <td>110.51</td>\n",
       "      <td>26.20</td>\n",
       "      <td>2011</td>\n",
       "    </tr>\n",
       "  </tbody>\n",
       "</table>\n",
       "</div>"
      ],
      "text/plain": [
       "                                                 Movie          LeadStudio  \\\n",
       "1                                      Shrek the Third           Paramount   \n",
       "4            Harry Potter and the Order of the Phoenix         Warner Bros   \n",
       "5                                          I Am Legend         Warner Bros   \n",
       "28                                  Meet the Robinsons              Disney   \n",
       "49                                         The Kingdom                 NaN   \n",
       "56                                              Hitman                 Fox   \n",
       "58                                            Stardust           Paramount   \n",
       "70                                         The Reaping                 NaN   \n",
       "84                                     Lions for Lambs         Independent   \n",
       "114              The Mummy: Tomb of the Dragon Emperor           Universal   \n",
       "115                 Journey to the Center of the Earth         Warner Bros   \n",
       "135                                        Fool's Gold         Warner Bros   \n",
       "153                                        Speed Racer         Warner Bros   \n",
       "185                                       The Bank Job         Independent   \n",
       "218                                Under the Same Moon           Weinstein   \n",
       "222                                      The Longshots         Independent   \n",
       "224                                           Doomsday    Relativity Media   \n",
       "241             Harry Potter and the Half-Blood Prince         Warner Bros   \n",
       "250                     Ice Age: Dawn of the Dinosaurs                 Fox   \n",
       "252     Night at the Museum: Battle of the Smithsonian                 Fox   \n",
       "286                             Race to Witch Mountain         Buena Vista   \n",
       "304                                           Year One                Sony   \n",
       "321                                               Push              Summit   \n",
       "323                                        The Soloist           Paramount   \n",
       "339                                          Astro Boy              Summit   \n",
       "341                                           Inkheart         Warner Bros   \n",
       "343                                    The Hurt Locker         Independent   \n",
       "351                                             Amelia         Independent   \n",
       "365                               Dragonball Evolution                 Fox   \n",
       "371                                           The Road           Weinstein   \n",
       "372                                   Taking Woodstock               Focus   \n",
       "389                                Clash of the Titans         Warner Bros   \n",
       "413                                         Green Zone           Universal   \n",
       "417        Harry Potter and the Deathly Hallows Part 1         Warner Bros   \n",
       "472                                    The Book of Eli         Independent   \n",
       "474  The Chronicles of Narnia: The Voyage of the Da...                 Fox   \n",
       "483                                 The Last Airbender           Paramount   \n",
       "532                                Conan the Barbarian           Lionsgate   \n",
       "537                                       Dolphin Tale         Independent   \n",
       "553                                              Hanna           Universal   \n",
       "586         Pirates of the Caribbean:On Stranger Tides              Disney   \n",
       "588                                      Puss In Boots          DreamWorks   \n",
       "593                                                Rio                 Fox   \n",
       "595                                            Sanctum    Relativity Media   \n",
       "604                Spy Kids: All The Time in the World           Weinstein   \n",
       "605                                       Sucker Punch  Legendary Pictures   \n",
       "610                           The Adventures of Tintin           Paramount   \n",
       "620                                          The Eagle           Universal   \n",
       "629                                        The Muppets              Disney   \n",
       "641                     Transformers: Dark of the Moon          DreamWorks   \n",
       "649                                    Winnie The Pooh              Disney   \n",
       "\n",
       "     RottenTomatoes  AudienceScore  Story      Genre  TheatersOpenWeek  \\\n",
       "1              42.0           57.0  Quest  Animation            4122.0   \n",
       "4              78.0           82.0  Quest  Adventure            4285.0   \n",
       "5              69.0           69.0  Quest   Thriller            3606.0   \n",
       "28             66.0           75.0  Quest  Animation            3413.0   \n",
       "49             52.0           78.0  Quest     Action            2793.0   \n",
       "56             15.0           61.0  Quest     Action            2458.0   \n",
       "58             76.0           86.0  Quest  Adventure            2540.0   \n",
       "70              9.0           53.0  Quest     Horror            2603.0   \n",
       "84             27.0           48.0  Quest      Drama            2215.0   \n",
       "114            14.0           40.0  Quest     Action            3760.0   \n",
       "115            61.0           55.0  Quest     Action            2811.0   \n",
       "135            11.0           53.0  Quest  Adventure            3125.0   \n",
       "153            38.0           61.0  Quest     Action            3606.0   \n",
       "185            78.0           74.0  Quest   Thriller            1603.0   \n",
       "218            72.0           37.0  Quest        NaN             266.0   \n",
       "222            39.0           39.0  Quest     Comedy            2089.0   \n",
       "224            48.0           47.0  Quest     Action            1936.0   \n",
       "241            83.0           75.0  Quest  Adventure            4325.0   \n",
       "250            45.0           72.0  Quest  Animation            4099.0   \n",
       "252            43.0           60.0  Quest     Action            4096.0   \n",
       "286            42.0           50.0  Quest     Action            3187.0   \n",
       "304            14.0           31.0  Quest  Adventure            3022.0   \n",
       "321            22.0           47.0  Quest     Action            2313.0   \n",
       "323            56.0           59.0  Quest      Drama            2024.0   \n",
       "339            49.0           53.0  Quest  Animation            3014.0   \n",
       "341            39.0           51.0  Quest  Adventure            2655.0   \n",
       "343            97.0           83.0  Quest      Drama               4.0   \n",
       "351            21.0           35.0  Quest  Adventure             820.0   \n",
       "365            15.0           28.0  Quest     Action            2181.0   \n",
       "371            75.0           65.0  Quest  Adventure             111.0   \n",
       "372            48.0           48.0  Quest     Comedy            1393.0   \n",
       "389            28.0           48.0  Quest     Action            3777.0   \n",
       "413            53.0           60.0  Quest     Action            3003.0   \n",
       "417            79.0           87.0  Quest  Adventure            4125.0   \n",
       "472            48.0           68.0  Quest     Action            3111.0   \n",
       "474            49.0           63.0  Quest  Adventure            3555.0   \n",
       "483             6.0           42.0  Quest     Action            3169.0   \n",
       "532            22.0           34.0  Quest     Action            3015.0   \n",
       "537            84.0           81.0  Quest      Drama            3507.0   \n",
       "553            71.0           67.0  Quest     Action            2535.0   \n",
       "586            34.0           61.0  Quest     Action            4155.0   \n",
       "588            83.0           76.0  Quest  Animation            3952.0   \n",
       "593            71.0           73.0  Quest  Animation            3826.0   \n",
       "595            30.0           39.0  Quest     Action            2787.0   \n",
       "604            22.0           40.0  Quest     Action            3295.0   \n",
       "605            23.0           48.0  Quest     Action            3033.0   \n",
       "610            74.0           78.0  Quest  Adventure            3087.0   \n",
       "620            39.0           43.0  Quest     Action            2296.0   \n",
       "629            97.0           87.0  Quest     Comedy            3440.0   \n",
       "641            35.0           67.0  Quest     Action            4088.0   \n",
       "649            91.0           79.0  Quest  Animation            2405.0   \n",
       "\n",
       "     OpeningWeekend  BOAvgOpenWeekend  DomesticGross  ForeignGross  \\\n",
       "1            121.60           29507.0        322.720       476.240   \n",
       "4             77.10           17998.0        292.000       647.880   \n",
       "5             77.20           21411.0        256.390       328.960   \n",
       "28            25.10            7361.0         97.820        71.510   \n",
       "49            17.10            6135.0         47.540        39.120   \n",
       "56            13.20            5362.0         39.690        60.280   \n",
       "58             9.16            3610.0         38.630        96.930   \n",
       "70            10.00            3851.0         25.130        37.640   \n",
       "84             6.70            3025.0         15.000        48.210   \n",
       "114           40.50           10760.0        102.490       298.640   \n",
       "115           21.00            7477.0        101.700       140.290   \n",
       "135           21.60            6909.0         70.230        41.000   \n",
       "153           18.60            5174.0         43.950        50.000   \n",
       "185            5.94            3702.0         30.060        34.760   \n",
       "218            2.80           10412.0         12.590        10.720   \n",
       "222            4.00            1953.0         11.540         0.230   \n",
       "224            4.90            2544.0         11.010        11.200   \n",
       "241           77.80           17997.0        302.000       632.000   \n",
       "250           41.70           10171.0        196.570       690.110   \n",
       "252           54.20           13226.0        177.200       235.800   \n",
       "286           24.40            7651.0         67.170        39.210   \n",
       "304           19.60            6489.0         43.330        19.020   \n",
       "321           10.10            4358.0         31.810        17.040   \n",
       "323            9.70            4801.0         31.700         6.610   \n",
       "339            6.70            2224.0         19.550        20.340   \n",
       "341            7.60            2862.0         17.300        45.140   \n",
       "343            0.14           36338.0         17.010        32.210   \n",
       "351            3.90            4761.0         14.250         5.400   \n",
       "365            4.80            2181.0          9.360        48.130   \n",
       "371            1.50           13534.0          8.120        19.510   \n",
       "372            3.50            2482.0          7.460         2.520   \n",
       "389           61.20           16213.0        163.210       330.000   \n",
       "413           14.30            4765.0         35.050        59.830   \n",
       "417          125.00           30307.0        295.000       664.300   \n",
       "472           32.70           10540.0         94.840        62.270   \n",
       "474           24.00            6752.0        104.390       311.300   \n",
       "483           40.30           12725.0        131.770       187.940   \n",
       "532           10.02            3324.0         21.300        27.500   \n",
       "537           19.15            5461.0         72.290        23.120   \n",
       "553           12.37            4880.0         40.260        23.520   \n",
       "586           90.15           21697.0        241.070       804.640   \n",
       "588           34.08            8623.0        149.260       405.730   \n",
       "593           39.23           10252.0        143.620       341.020   \n",
       "595            9.40            3390.0         23.210        85.400   \n",
       "604           11.64            3534.0         38.540        47.030   \n",
       "605           19.06            6284.0         36.390        53.400   \n",
       "610            9.72            3149.0         77.591       296.402   \n",
       "620            8.68            3782.0         19.490         7.630   \n",
       "629           29.24            8500.0         88.630        76.550   \n",
       "641           97.85           23937.0        352.390       771.400   \n",
       "649            7.86            3267.0         26.690         6.460   \n",
       "\n",
       "     WorldGross  Budget  Profitability  OpenProfit  Year  \n",
       "1       798.960   160.0         499.35       76.00  2007  \n",
       "4       939.890   150.0         626.59       51.40  2007  \n",
       "5       585.350   150.0         390.23       51.47  2007  \n",
       "28      169.330   100.0         169.33       25.10  2007  \n",
       "49       86.660    80.0         108.32       21.38  2007  \n",
       "56       99.970    17.5         571.23       75.43  2007  \n",
       "58      135.560    70.0         193.66       13.09  2007  \n",
       "70       62.770    40.0         156.93       25.00  2007  \n",
       "84       63.220    35.0         180.61       19.14  2007  \n",
       "114     401.130   145.0         276.64       27.93  2008  \n",
       "115     241.990    45.0         537.76       46.67  2008  \n",
       "135     111.230    72.5         153.42       29.79  2008  \n",
       "153      93.950   120.0          78.29       15.50  2008  \n",
       "185      64.820    20.0         324.11       29.70  2008  \n",
       "218      23.310     1.7        1371.24      164.71  2008  \n",
       "222      11.770    30.0          39.22       13.33  2008  \n",
       "224      22.210    33.0          67.30       14.85  2008  \n",
       "241     934.000   250.0         373.60       31.12  2009  \n",
       "250     886.680    90.0         985.20       46.33  2009  \n",
       "252     413.000   150.0         275.33       36.13  2009  \n",
       "286     106.380    50.0         212.76       48.80  2009  \n",
       "304      62.350    60.0         103.92       32.67  2009  \n",
       "321      48.850    38.0         128.55       26.58  2009  \n",
       "323      38.310    60.0          63.85       16.17  2009  \n",
       "339      39.890    65.0          61.36       10.31  2009  \n",
       "341      62.440    60.0         104.07       12.67  2009  \n",
       "343      49.220    15.0         328.13        0.93  2009  \n",
       "351      19.200    40.0          48.00        9.75  2009  \n",
       "365      58.230    30.0         194.10       16.00  2009  \n",
       "371      27.630    25.0         110.51        6.00  2009  \n",
       "372       9.980    29.0          34.40       12.07  2009  \n",
       "389     493.214   125.0         394.57       48.96  2010  \n",
       "413      94.878   100.0          94.88       14.30  2010  \n",
       "417     959.300   125.0         767.44      100.00  2010  \n",
       "472     157.107    80.0         196.38       40.88  2010  \n",
       "474     415.685   155.0         268.18       15.48  2010  \n",
       "483     319.713   150.0         213.14       26.87  2010  \n",
       "532      48.800    90.0          54.22       11.13  2011  \n",
       "537      95.410    37.0         257.86       51.76  2011  \n",
       "553      63.780    30.0         212.60       41.23  2011  \n",
       "586    1045.710   250.0         418.28       36.06  2011  \n",
       "588     554.990   130.0         426.91       26.22  2011  \n",
       "593     484.630    90.0         538.48       43.59  2011  \n",
       "595     108.610    30.0         362.03       31.33  2011  \n",
       "604      85.560    27.0         316.90       43.11  2011  \n",
       "605      89.790    82.0         109.50       23.24  2011  \n",
       "610     373.993   130.0         287.69        7.48  2011  \n",
       "620      27.120    25.0         108.48       34.72  2011  \n",
       "629     165.180    45.0         367.08       64.98  2011  \n",
       "641    1123.790   195.0         576.30       50.18  2011  \n",
       "649      33.150    30.0         110.51       26.20  2011  "
      ]
     },
     "execution_count": 13,
     "metadata": {},
     "output_type": "execute_result"
    }
   ],
   "source": [
    "quest_movies"
   ]
  },
  {
   "cell_type": "code",
   "execution_count": 14,
   "metadata": {},
   "outputs": [
    {
     "data": {
      "text/plain": [
       "51"
      ]
     },
     "execution_count": 14,
     "metadata": {},
     "output_type": "execute_result"
    }
   ],
   "source": [
    "# Quest Story Type movies are 51 in records\n",
    "quest_movies.shape[0]"
   ]
  },
  {
   "cell_type": "code",
   "execution_count": 15,
   "metadata": {},
   "outputs": [
    {
     "data": {
      "text/plain": [
       "Movie                                                     Genre    \n",
       "Amelia                                                    Adventure    35.0\n",
       "Astro Boy                                                 Animation    53.0\n",
       "Clash of the Titans                                       Action       48.0\n",
       "Conan the Barbarian                                       Action       34.0\n",
       "Dolphin Tale                                              Drama        81.0\n",
       "Doomsday                                                  Action       47.0\n",
       "Dragonball Evolution                                      Action       28.0\n",
       "Fool's Gold                                               Adventure    53.0\n",
       "Green Zone                                                Action       60.0\n",
       "Hanna                                                     Action       67.0\n",
       "Harry Potter and the Deathly Hallows Part 1               Adventure    87.0\n",
       "Harry Potter and the Half-Blood Prince                    Adventure    75.0\n",
       "Harry Potter and the Order of the Phoenix                 Adventure    82.0\n",
       "Hitman                                                    Action       61.0\n",
       "I Am Legend                                               Thriller     69.0\n",
       "Ice Age: Dawn of the Dinosaurs                            Animation    72.0\n",
       "Inkheart                                                  Adventure    51.0\n",
       "Journey to the Center of the Earth                        Action       55.0\n",
       "Lions for Lambs                                           Drama        48.0\n",
       "Meet the Robinsons                                        Animation    75.0\n",
       "Night at the Museum: Battle of the Smithsonian            Action       60.0\n",
       "Pirates of the Caribbean:On Stranger Tides                Action       61.0\n",
       "Push                                                      Action       47.0\n",
       "Puss In Boots                                             Animation    76.0\n",
       "Race to Witch Mountain                                    Action       50.0\n",
       "Rio                                                       Animation    73.0\n",
       "Sanctum                                                   Action       39.0\n",
       "Shrek the Third                                           Animation    57.0\n",
       "Speed Racer                                               Action       61.0\n",
       "Spy Kids: All The Time in the World                       Action       40.0\n",
       "Stardust                                                  Adventure    86.0\n",
       "Sucker Punch                                              Action       48.0\n",
       "Taking Woodstock                                          Comedy       48.0\n",
       "The Adventures of Tintin                                  Adventure    78.0\n",
       "The Bank Job                                              Thriller     74.0\n",
       "The Book of Eli                                           Action       68.0\n",
       "The Chronicles of Narnia: The Voyage of the Dawn Treader  Adventure    63.0\n",
       "The Eagle                                                 Action       43.0\n",
       "The Hurt Locker                                           Drama        83.0\n",
       "The Kingdom                                               Action       78.0\n",
       "The Last Airbender                                        Action       42.0\n",
       "The Longshots                                             Comedy       39.0\n",
       "The Mummy: Tomb of the Dragon Emperor                     Action       40.0\n",
       "The Muppets                                               Comedy       87.0\n",
       "The Reaping                                               Horror       53.0\n",
       "The Road                                                  Adventure    65.0\n",
       "The Soloist                                               Drama        59.0\n",
       "Transformers: Dark of the Moon                            Action       67.0\n",
       "Winnie The Pooh                                           Animation    79.0\n",
       "Year One                                                  Adventure    31.0\n",
       "Name: AudienceScore, dtype: float64"
      ]
     },
     "execution_count": 15,
     "metadata": {},
     "output_type": "execute_result"
    }
   ],
   "source": [
    "# Group Movies by Name, Genre and Audience Score for further job\n",
    "quest_movies.groupby(['Movie','Genre'])['AudienceScore'].max()"
   ]
  },
  {
   "cell_type": "markdown",
   "metadata": {},
   "source": [
    "# 1. Find the highest rated movie in the “Quest” story type."
   ]
  },
  {
   "cell_type": "code",
   "execution_count": 16,
   "metadata": {},
   "outputs": [
    {
     "data": {
      "text/plain": [
       "Movie               Harry Potter and the Deathly Hallows Part 1\n",
       "LeadStudio                                          Warner Bros\n",
       "RottenTomatoes                                               79\n",
       "AudienceScore                                                87\n",
       "Story                                                     Quest\n",
       "Genre                                                 Adventure\n",
       "TheatersOpenWeek                                           4125\n",
       "OpeningWeekend                                              125\n",
       "BOAvgOpenWeekend                                          30307\n",
       "DomesticGross                                               295\n",
       "ForeignGross                                              664.3\n",
       "WorldGross                                                959.3\n",
       "Budget                                                      125\n",
       "Profitability                                            767.44\n",
       "OpenProfit                                                  100\n",
       "Year                                                       2010\n",
       "Name: 417, dtype: object"
      ]
     },
     "execution_count": 16,
     "metadata": {},
     "output_type": "execute_result"
    }
   ],
   "source": [
    "# This code will give the name of movie with highest number of records\n",
    "# CODE: <<  df.loc[df['column_name'].idxmax()]  >>\n",
    "quest_movies.loc[quest_movies['AudienceScore'].idxmax()]"
   ]
  },
  {
   "cell_type": "code",
   "execution_count": 17,
   "metadata": {},
   "outputs": [
    {
     "data": {
      "text/html": [
       "<div>\n",
       "<style scoped>\n",
       "    .dataframe tbody tr th:only-of-type {\n",
       "        vertical-align: middle;\n",
       "    }\n",
       "\n",
       "    .dataframe tbody tr th {\n",
       "        vertical-align: top;\n",
       "    }\n",
       "\n",
       "    .dataframe thead th {\n",
       "        text-align: right;\n",
       "    }\n",
       "</style>\n",
       "<table border=\"1\" class=\"dataframe\">\n",
       "  <thead>\n",
       "    <tr style=\"text-align: right;\">\n",
       "      <th></th>\n",
       "      <th>Movie</th>\n",
       "      <th>LeadStudio</th>\n",
       "      <th>RottenTomatoes</th>\n",
       "      <th>AudienceScore</th>\n",
       "      <th>Story</th>\n",
       "      <th>Genre</th>\n",
       "      <th>TheatersOpenWeek</th>\n",
       "      <th>OpeningWeekend</th>\n",
       "      <th>BOAvgOpenWeekend</th>\n",
       "      <th>DomesticGross</th>\n",
       "      <th>ForeignGross</th>\n",
       "      <th>WorldGross</th>\n",
       "      <th>Budget</th>\n",
       "      <th>Profitability</th>\n",
       "      <th>OpenProfit</th>\n",
       "      <th>Year</th>\n",
       "    </tr>\n",
       "  </thead>\n",
       "  <tbody>\n",
       "    <tr>\n",
       "      <td>417</td>\n",
       "      <td>Harry Potter and the Deathly Hallows Part 1</td>\n",
       "      <td>Warner Bros</td>\n",
       "      <td>79.0</td>\n",
       "      <td>87.0</td>\n",
       "      <td>Quest</td>\n",
       "      <td>Adventure</td>\n",
       "      <td>4125.0</td>\n",
       "      <td>125.00</td>\n",
       "      <td>30307.0</td>\n",
       "      <td>295.00</td>\n",
       "      <td>664.30</td>\n",
       "      <td>959.30</td>\n",
       "      <td>125.0</td>\n",
       "      <td>767.44</td>\n",
       "      <td>100.00</td>\n",
       "      <td>2010</td>\n",
       "    </tr>\n",
       "    <tr>\n",
       "      <td>629</td>\n",
       "      <td>The Muppets</td>\n",
       "      <td>Disney</td>\n",
       "      <td>97.0</td>\n",
       "      <td>87.0</td>\n",
       "      <td>Quest</td>\n",
       "      <td>Comedy</td>\n",
       "      <td>3440.0</td>\n",
       "      <td>29.24</td>\n",
       "      <td>8500.0</td>\n",
       "      <td>88.63</td>\n",
       "      <td>76.55</td>\n",
       "      <td>165.18</td>\n",
       "      <td>45.0</td>\n",
       "      <td>367.08</td>\n",
       "      <td>64.98</td>\n",
       "      <td>2011</td>\n",
       "    </tr>\n",
       "  </tbody>\n",
       "</table>\n",
       "</div>"
      ],
      "text/plain": [
       "                                           Movie   LeadStudio  RottenTomatoes  \\\n",
       "417  Harry Potter and the Deathly Hallows Part 1  Warner Bros            79.0   \n",
       "629                                  The Muppets       Disney            97.0   \n",
       "\n",
       "     AudienceScore  Story      Genre  TheatersOpenWeek  OpeningWeekend  \\\n",
       "417           87.0  Quest  Adventure            4125.0          125.00   \n",
       "629           87.0  Quest     Comedy            3440.0           29.24   \n",
       "\n",
       "     BOAvgOpenWeekend  DomesticGross  ForeignGross  WorldGross  Budget  \\\n",
       "417           30307.0         295.00        664.30      959.30   125.0   \n",
       "629            8500.0          88.63         76.55      165.18    45.0   \n",
       "\n",
       "     Profitability  OpenProfit  Year  \n",
       "417         767.44      100.00  2010  \n",
       "629         367.08       64.98  2011  "
      ]
     },
     "execution_count": 17,
     "metadata": {},
     "output_type": "execute_result"
    }
   ],
   "source": [
    "# This code will give the name of movies with highest number of records\n",
    "# CODE: <<  df[df['column_name'] == df['column_name'].max()]  >>\n",
    "quest_movies[quest_movies['AudienceScore'] == quest_movies['AudienceScore'].max()]"
   ]
  },
  {
   "cell_type": "markdown",
   "metadata": {},
   "source": [
    "# 2. Find the genre in which there has been the greatest number of movie releases"
   ]
  },
  {
   "cell_type": "code",
   "execution_count": 18,
   "metadata": {},
   "outputs": [],
   "source": [
    "# Sorted data by GENRE CODE: <<  new_var = df.groupby(['column_name']).size()  >>\n",
    "sorted_genre = holly_movie.groupby(['Genre']).size()"
   ]
  },
  {
   "cell_type": "code",
   "execution_count": 19,
   "metadata": {},
   "outputs": [
    {
     "data": {
      "text/plain": [
       "Genre\n",
       "Comedy         177\n",
       "Action         166\n",
       "Drama          109\n",
       "Horror          52\n",
       "Animation       51\n",
       "Thriller        35\n",
       "Adventure       30\n",
       "Romance         20\n",
       "Crime           15\n",
       "Biography       14\n",
       "Documentary      7\n",
       "Fantasy          6\n",
       "Mystery          5\n",
       "Musical          4\n",
       "dtype: int64"
      ]
     },
     "execution_count": 19,
     "metadata": {},
     "output_type": "execute_result"
    }
   ],
   "source": [
    "# Display data which is sorted/groupby Genre //\n",
    "# can be soreted further in DECENDING VALUES with CODE: <<  df.sort_values(ascending=False)  >>\n",
    "sorted_genre.sort_values(ascending=False)"
   ]
  },
  {
   "cell_type": "markdown",
   "metadata": {},
   "source": [
    "# 3. Print the names of the top five movies with the costliest budgets."
   ]
  },
  {
   "cell_type": "code",
   "execution_count": 20,
   "metadata": {},
   "outputs": [
    {
     "data": {
      "text/plain": [
       "Movie                                       Genre    \n",
       "Pirates of the Caribbean: At World's End    Action       300.0\n",
       "Tangled                                     Animation    260.0\n",
       "Spider-Man 3                                Action       258.0\n",
       "Pirates of the Caribbean:On Stranger Tides  Action       250.0\n",
       "Harry Potter and the Half-Blood Prince      Adventure    250.0\n",
       "Avatar                                      Action       237.0\n",
       "Quantum of Solace                           Action       230.0\n",
       "Man of Steel                                Action       225.0\n",
       "Transformers: Revenge of the Fallen         Action       210.0\n",
       "Iron Man 3                                  Action       200.0\n",
       "Toy Story 3                                 Animation    200.0\n",
       "Iron Man 2                                  Action       200.0\n",
       "Cars 2                                      Animation    200.0\n",
       "Kung Fu Panda                               Animation    200.0\n",
       "Prince of Persia: The Sands of Time         Action       200.0\n",
       "Robin Hood                                  Action       200.0\n",
       "Terminator Salvation                        Action       200.0\n",
       "The Chronicles of Narnia: Prince Caspian    Action       200.0\n",
       "Alice in Wonderland                         Adventure    200.0\n",
       "A Christmas Carol                           Animation    200.0\n",
       "Name: Budget, dtype: float64"
      ]
     },
     "execution_count": 20,
     "metadata": {},
     "output_type": "execute_result"
    }
   ],
   "source": [
    "holly_movie.groupby(['Movie','Genre'])['Budget'].max().sort_values(ascending=False).head(20)"
   ]
  },
  {
   "cell_type": "code",
   "execution_count": null,
   "metadata": {},
   "outputs": [],
   "source": []
  },
  {
   "cell_type": "code",
   "execution_count": 21,
   "metadata": {},
   "outputs": [],
   "source": [
    "profitability_data = holly_movie.loc[:,['Movie','RottenTomatoes','Profitability']]"
   ]
  },
  {
   "cell_type": "code",
   "execution_count": 22,
   "metadata": {},
   "outputs": [
    {
     "data": {
      "text/html": [
       "<div>\n",
       "<style scoped>\n",
       "    .dataframe tbody tr th:only-of-type {\n",
       "        vertical-align: middle;\n",
       "    }\n",
       "\n",
       "    .dataframe tbody tr th {\n",
       "        vertical-align: top;\n",
       "    }\n",
       "\n",
       "    .dataframe thead th {\n",
       "        text-align: right;\n",
       "    }\n",
       "</style>\n",
       "<table border=\"1\" class=\"dataframe\">\n",
       "  <thead>\n",
       "    <tr style=\"text-align: right;\">\n",
       "      <th></th>\n",
       "      <th>Movie</th>\n",
       "      <th>RottenTomatoes</th>\n",
       "      <th>Profitability</th>\n",
       "    </tr>\n",
       "  </thead>\n",
       "  <tbody>\n",
       "    <tr>\n",
       "      <td>0</td>\n",
       "      <td>Spider-Man 3</td>\n",
       "      <td>61.0</td>\n",
       "      <td>345.30</td>\n",
       "    </tr>\n",
       "    <tr>\n",
       "      <td>1</td>\n",
       "      <td>Shrek the Third</td>\n",
       "      <td>42.0</td>\n",
       "      <td>499.35</td>\n",
       "    </tr>\n",
       "    <tr>\n",
       "      <td>2</td>\n",
       "      <td>Transformers</td>\n",
       "      <td>57.0</td>\n",
       "      <td>473.14</td>\n",
       "    </tr>\n",
       "    <tr>\n",
       "      <td>3</td>\n",
       "      <td>Pirates of the Caribbean: At World's End</td>\n",
       "      <td>45.0</td>\n",
       "      <td>321.14</td>\n",
       "    </tr>\n",
       "    <tr>\n",
       "      <td>4</td>\n",
       "      <td>Harry Potter and the Order of the Phoenix</td>\n",
       "      <td>78.0</td>\n",
       "      <td>626.59</td>\n",
       "    </tr>\n",
       "    <tr>\n",
       "      <td>...</td>\n",
       "      <td>...</td>\n",
       "      <td>...</td>\n",
       "      <td>...</td>\n",
       "    </tr>\n",
       "    <tr>\n",
       "      <td>965</td>\n",
       "      <td>The Canyons</td>\n",
       "      <td>22.0</td>\n",
       "      <td>77.21</td>\n",
       "    </tr>\n",
       "    <tr>\n",
       "      <td>966</td>\n",
       "      <td>The Call</td>\n",
       "      <td>43.0</td>\n",
       "      <td>527.48</td>\n",
       "    </tr>\n",
       "    <tr>\n",
       "      <td>967</td>\n",
       "      <td>The English Teacher</td>\n",
       "      <td>42.0</td>\n",
       "      <td>NaN</td>\n",
       "    </tr>\n",
       "    <tr>\n",
       "      <td>968</td>\n",
       "      <td>John Dies at the End</td>\n",
       "      <td>61.0</td>\n",
       "      <td>14.20</td>\n",
       "    </tr>\n",
       "    <tr>\n",
       "      <td>969</td>\n",
       "      <td>Lovelace</td>\n",
       "      <td>55.0</td>\n",
       "      <td>15.25</td>\n",
       "    </tr>\n",
       "  </tbody>\n",
       "</table>\n",
       "<p>970 rows × 3 columns</p>\n",
       "</div>"
      ],
      "text/plain": [
       "                                         Movie  RottenTomatoes  Profitability\n",
       "0                                 Spider-Man 3            61.0         345.30\n",
       "1                              Shrek the Third            42.0         499.35\n",
       "2                                 Transformers            57.0         473.14\n",
       "3     Pirates of the Caribbean: At World's End            45.0         321.14\n",
       "4    Harry Potter and the Order of the Phoenix            78.0         626.59\n",
       "..                                         ...             ...            ...\n",
       "965                                The Canyons            22.0          77.21\n",
       "966                                   The Call            43.0         527.48\n",
       "967                        The English Teacher            42.0            NaN\n",
       "968                       John Dies at the End            61.0          14.20\n",
       "969                                   Lovelace            55.0          15.25\n",
       "\n",
       "[970 rows x 3 columns]"
      ]
     },
     "execution_count": 22,
     "metadata": {},
     "output_type": "execute_result"
    }
   ],
   "source": [
    "profitability_data"
   ]
  },
  {
   "cell_type": "code",
   "execution_count": 23,
   "metadata": {},
   "outputs": [
    {
     "name": "stderr",
     "output_type": "stream",
     "text": [
      "C:\\Users\\Asus\\Anaconda3\\lib\\site-packages\\ipykernel_launcher.py:1: FutureWarning: by argument to sort_index is deprecated, please use .sort_values(by=...)\n",
      "  \"\"\"Entry point for launching an IPython kernel.\n"
     ]
    }
   ],
   "source": [
    "rotntoma_data = profitability_data.sort_index(by = ['RottenTomatoes'], ascending=False)"
   ]
  },
  {
   "cell_type": "code",
   "execution_count": 24,
   "metadata": {},
   "outputs": [],
   "source": [
    "selected_rotntoma_data = rotntoma_data.iloc[:10]"
   ]
  },
  {
   "cell_type": "code",
   "execution_count": 25,
   "metadata": {},
   "outputs": [],
   "source": [
    "import matplotlib.pyplot as plt"
   ]
  },
  {
   "cell_type": "code",
   "execution_count": 26,
   "metadata": {},
   "outputs": [
    {
     "data": {
      "image/png": "[encoded data removed]",
      "text/plain": [
       "<Figure size 432x288 with 1 Axes>"
      ]
     },
     "metadata": {},
     "output_type": "display_data"
    }
   ],
   "source": [
    "# Draw a PIE CHART\n",
    "\n",
    "fig1, ax1 = plt.subplots()\n",
    "ax1.axis('equal')\n",
    "\n",
    "plt.pie(selected_rotntoma_data['Profitability'], labels = selected_rotntoma_data['Movie'], startangle=150,\n",
    "       pctdistance=2.5)\n",
    "movies = list(selected_rotntoma_data['Movie'])\n",
    "plt.legend(movies, loc ='lower left')\n",
    "\n",
    "#plt.legend(loc='lower left')\n",
    "plt.show()"
   ]
  },
  {
   "cell_type": "markdown",
   "metadata": {},
   "source": [
    "# 5. Perform Operations on Files"
   ]
  },
  {
   "cell_type": "code",
   "execution_count": 27,
   "metadata": {},
   "outputs": [],
   "source": [
    "# 5.1: From the raw data below create a data frame\n",
    "# 'first_name': ['Jason', 'Molly', 'Tina', 'Jake', 'Amy'],\n",
    "# 'last_name': ['Miller', 'Jacobson', \".\", 'Milner', 'Cooze'],\n",
    "# 'age': [42, 52, 36, 24, 73],\n",
    "# 'preTestScore': [4, 24, 31, \".\", \".\"],\n",
    "# 'postTestScore': [\"25,000\", \"94,000\", 57, 62, 70]"
   ]
  },
  {
   "cell_type": "code",
   "execution_count": 28,
   "metadata": {},
   "outputs": [],
   "source": [
    "# Import Modules\n",
    "import pandas as pd"
   ]
  },
  {
   "cell_type": "code",
   "execution_count": 29,
   "metadata": {},
   "outputs": [],
   "source": [
    "# Create Raw Data\n",
    "raw_data = {'First_Name':['Jason', 'Molly', 'Tina', 'Jake', 'Amy'],\n",
    "            'Last_Name':['Miller', 'Jacobson', \".\", 'Milner', 'Cooze'],\n",
    "           'Age':[42, 52, 36, 24, 73],\n",
    "           'Pre_Test_Score': [4, 24, 31, \".\", \".\"],\n",
    "           'Post_Test_Score': [\"25,000\", \"94,000\", 57, 62, 70]\n",
    "           }\n",
    "df = pd.DataFrame(raw_data)"
   ]
  },
  {
   "cell_type": "code",
   "execution_count": 30,
   "metadata": {},
   "outputs": [
    {
     "data": {
      "text/html": [
       "<div>\n",
       "<style scoped>\n",
       "    .dataframe tbody tr th:only-of-type {\n",
       "        vertical-align: middle;\n",
       "    }\n",
       "\n",
       "    .dataframe tbody tr th {\n",
       "        vertical-align: top;\n",
       "    }\n",
       "\n",
       "    .dataframe thead th {\n",
       "        text-align: right;\n",
       "    }\n",
       "</style>\n",
       "<table border=\"1\" class=\"dataframe\">\n",
       "  <thead>\n",
       "    <tr style=\"text-align: right;\">\n",
       "      <th></th>\n",
       "      <th>First_Name</th>\n",
       "      <th>Last_Name</th>\n",
       "      <th>Age</th>\n",
       "      <th>Pre_Test_Score</th>\n",
       "      <th>Post_Test_Score</th>\n",
       "    </tr>\n",
       "  </thead>\n",
       "  <tbody>\n",
       "    <tr>\n",
       "      <td>0</td>\n",
       "      <td>Jason</td>\n",
       "      <td>Miller</td>\n",
       "      <td>42</td>\n",
       "      <td>4</td>\n",
       "      <td>25,000</td>\n",
       "    </tr>\n",
       "    <tr>\n",
       "      <td>1</td>\n",
       "      <td>Molly</td>\n",
       "      <td>Jacobson</td>\n",
       "      <td>52</td>\n",
       "      <td>24</td>\n",
       "      <td>94,000</td>\n",
       "    </tr>\n",
       "    <tr>\n",
       "      <td>2</td>\n",
       "      <td>Tina</td>\n",
       "      <td>.</td>\n",
       "      <td>36</td>\n",
       "      <td>31</td>\n",
       "      <td>57</td>\n",
       "    </tr>\n",
       "    <tr>\n",
       "      <td>3</td>\n",
       "      <td>Jake</td>\n",
       "      <td>Milner</td>\n",
       "      <td>24</td>\n",
       "      <td>.</td>\n",
       "      <td>62</td>\n",
       "    </tr>\n",
       "    <tr>\n",
       "      <td>4</td>\n",
       "      <td>Amy</td>\n",
       "      <td>Cooze</td>\n",
       "      <td>73</td>\n",
       "      <td>.</td>\n",
       "      <td>70</td>\n",
       "    </tr>\n",
       "  </tbody>\n",
       "</table>\n",
       "</div>"
      ],
      "text/plain": [
       "  First_Name Last_Name  Age Pre_Test_Score Post_Test_Score\n",
       "0      Jason    Miller   42              4          25,000\n",
       "1      Molly  Jacobson   52             24          94,000\n",
       "2       Tina         .   36             31              57\n",
       "3       Jake    Milner   24              .              62\n",
       "4        Amy     Cooze   73              .              70"
      ]
     },
     "execution_count": 30,
     "metadata": {},
     "output_type": "execute_result"
    }
   ],
   "source": [
    "# Print Data\n",
    "df"
   ]
  },
  {
   "cell_type": "markdown",
   "metadata": {},
   "source": [
    "# 5.2: Save the dataframe into a csv file as example.csv"
   ]
  },
  {
   "cell_type": "code",
   "execution_count": 31,
   "metadata": {},
   "outputs": [],
   "source": [
    "# Import example.csv\n",
    "df.to_csv('example.csv', index=False)"
   ]
  },
  {
   "cell_type": "markdown",
   "metadata": {},
   "source": [
    "# 5.3: Read the example.csv and print the data frame"
   ]
  },
  {
   "cell_type": "code",
   "execution_count": 32,
   "metadata": {},
   "outputs": [],
   "source": [
    "# Import data and print data frame\n",
    "example = pd.read_csv('example.csv')"
   ]
  },
  {
   "cell_type": "code",
   "execution_count": 33,
   "metadata": {},
   "outputs": [
    {
     "data": {
      "text/html": [
       "<div>\n",
       "<style scoped>\n",
       "    .dataframe tbody tr th:only-of-type {\n",
       "        vertical-align: middle;\n",
       "    }\n",
       "\n",
       "    .dataframe tbody tr th {\n",
       "        vertical-align: top;\n",
       "    }\n",
       "\n",
       "    .dataframe thead th {\n",
       "        text-align: right;\n",
       "    }\n",
       "</style>\n",
       "<table border=\"1\" class=\"dataframe\">\n",
       "  <thead>\n",
       "    <tr style=\"text-align: right;\">\n",
       "      <th></th>\n",
       "      <th>First_Name</th>\n",
       "      <th>Last_Name</th>\n",
       "      <th>Age</th>\n",
       "      <th>Pre_Test_Score</th>\n",
       "      <th>Post_Test_Score</th>\n",
       "    </tr>\n",
       "  </thead>\n",
       "  <tbody>\n",
       "    <tr>\n",
       "      <td>0</td>\n",
       "      <td>Jason</td>\n",
       "      <td>Miller</td>\n",
       "      <td>42</td>\n",
       "      <td>4</td>\n",
       "      <td>25,000</td>\n",
       "    </tr>\n",
       "    <tr>\n",
       "      <td>1</td>\n",
       "      <td>Molly</td>\n",
       "      <td>Jacobson</td>\n",
       "      <td>52</td>\n",
       "      <td>24</td>\n",
       "      <td>94,000</td>\n",
       "    </tr>\n",
       "    <tr>\n",
       "      <td>2</td>\n",
       "      <td>Tina</td>\n",
       "      <td>.</td>\n",
       "      <td>36</td>\n",
       "      <td>31</td>\n",
       "      <td>57</td>\n",
       "    </tr>\n",
       "    <tr>\n",
       "      <td>3</td>\n",
       "      <td>Jake</td>\n",
       "      <td>Milner</td>\n",
       "      <td>24</td>\n",
       "      <td>.</td>\n",
       "      <td>62</td>\n",
       "    </tr>\n",
       "    <tr>\n",
       "      <td>4</td>\n",
       "      <td>Amy</td>\n",
       "      <td>Cooze</td>\n",
       "      <td>73</td>\n",
       "      <td>.</td>\n",
       "      <td>70</td>\n",
       "    </tr>\n",
       "  </tbody>\n",
       "</table>\n",
       "</div>"
      ],
      "text/plain": [
       "  First_Name Last_Name  Age Pre_Test_Score Post_Test_Score\n",
       "0      Jason    Miller   42              4          25,000\n",
       "1      Molly  Jacobson   52             24          94,000\n",
       "2       Tina         .   36             31              57\n",
       "3       Jake    Milner   24              .              62\n",
       "4        Amy     Cooze   73              .              70"
      ]
     },
     "execution_count": 33,
     "metadata": {},
     "output_type": "execute_result"
    }
   ],
   "source": [
    "example"
   ]
  },
  {
   "cell_type": "markdown",
   "metadata": {},
   "source": [
    "# 5.4: Read the example.csv without column heading"
   ]
  },
  {
   "cell_type": "code",
   "execution_count": 34,
   "metadata": {},
   "outputs": [],
   "source": [
    "# Import data without the column header\n",
    "example = pd.read_csv('example.csv', header=None)"
   ]
  },
  {
   "cell_type": "code",
   "execution_count": 35,
   "metadata": {},
   "outputs": [
    {
     "data": {
      "text/html": [
       "<div>\n",
       "<style scoped>\n",
       "    .dataframe tbody tr th:only-of-type {\n",
       "        vertical-align: middle;\n",
       "    }\n",
       "\n",
       "    .dataframe tbody tr th {\n",
       "        vertical-align: top;\n",
       "    }\n",
       "\n",
       "    .dataframe thead th {\n",
       "        text-align: right;\n",
       "    }\n",
       "</style>\n",
       "<table border=\"1\" class=\"dataframe\">\n",
       "  <thead>\n",
       "    <tr style=\"text-align: right;\">\n",
       "      <th></th>\n",
       "      <th>0</th>\n",
       "      <th>1</th>\n",
       "      <th>2</th>\n",
       "      <th>3</th>\n",
       "      <th>4</th>\n",
       "    </tr>\n",
       "  </thead>\n",
       "  <tbody>\n",
       "    <tr>\n",
       "      <td>0</td>\n",
       "      <td>First_Name</td>\n",
       "      <td>Last_Name</td>\n",
       "      <td>Age</td>\n",
       "      <td>Pre_Test_Score</td>\n",
       "      <td>Post_Test_Score</td>\n",
       "    </tr>\n",
       "    <tr>\n",
       "      <td>1</td>\n",
       "      <td>Jason</td>\n",
       "      <td>Miller</td>\n",
       "      <td>42</td>\n",
       "      <td>4</td>\n",
       "      <td>25,000</td>\n",
       "    </tr>\n",
       "    <tr>\n",
       "      <td>2</td>\n",
       "      <td>Molly</td>\n",
       "      <td>Jacobson</td>\n",
       "      <td>52</td>\n",
       "      <td>24</td>\n",
       "      <td>94,000</td>\n",
       "    </tr>\n",
       "    <tr>\n",
       "      <td>3</td>\n",
       "      <td>Tina</td>\n",
       "      <td>.</td>\n",
       "      <td>36</td>\n",
       "      <td>31</td>\n",
       "      <td>57</td>\n",
       "    </tr>\n",
       "    <tr>\n",
       "      <td>4</td>\n",
       "      <td>Jake</td>\n",
       "      <td>Milner</td>\n",
       "      <td>24</td>\n",
       "      <td>.</td>\n",
       "      <td>62</td>\n",
       "    </tr>\n",
       "    <tr>\n",
       "      <td>5</td>\n",
       "      <td>Amy</td>\n",
       "      <td>Cooze</td>\n",
       "      <td>73</td>\n",
       "      <td>.</td>\n",
       "      <td>70</td>\n",
       "    </tr>\n",
       "  </tbody>\n",
       "</table>\n",
       "</div>"
      ],
      "text/plain": [
       "            0          1    2               3                4\n",
       "0  First_Name  Last_Name  Age  Pre_Test_Score  Post_Test_Score\n",
       "1       Jason     Miller   42               4           25,000\n",
       "2       Molly   Jacobson   52              24           94,000\n",
       "3        Tina          .   36              31               57\n",
       "4        Jake     Milner   24               .               62\n",
       "5         Amy      Cooze   73               .               70"
      ]
     },
     "execution_count": 35,
     "metadata": {},
     "output_type": "execute_result"
    }
   ],
   "source": [
    "example"
   ]
  },
  {
   "cell_type": "markdown",
   "metadata": {},
   "source": [
    "# 5.5: Read the example.csv and make the index columns as 'First Name’ and 'Last Name"
   ]
  },
  {
   "cell_type": "code",
   "execution_count": 36,
   "metadata": {},
   "outputs": [],
   "source": [
    "# Rename Column Headers\n",
    "example.rename(columns={0:'First_Name',\n",
    "                        1:'Last_Name',\n",
    "                        2:'Age',\n",
    "                        3:'Pre_Test_Score',\n",
    "                        4:'Post_Test_Score'\n",
    "                       }, \n",
    "                 inplace=True)"
   ]
  },
  {
   "cell_type": "code",
   "execution_count": 37,
   "metadata": {},
   "outputs": [
    {
     "data": {
      "text/html": [
       "<div>\n",
       "<style scoped>\n",
       "    .dataframe tbody tr th:only-of-type {\n",
       "        vertical-align: middle;\n",
       "    }\n",
       "\n",
       "    .dataframe tbody tr th {\n",
       "        vertical-align: top;\n",
       "    }\n",
       "\n",
       "    .dataframe thead th {\n",
       "        text-align: right;\n",
       "    }\n",
       "</style>\n",
       "<table border=\"1\" class=\"dataframe\">\n",
       "  <thead>\n",
       "    <tr style=\"text-align: right;\">\n",
       "      <th></th>\n",
       "      <th>First_Name</th>\n",
       "      <th>Last_Name</th>\n",
       "      <th>Age</th>\n",
       "      <th>Pre_Test_Score</th>\n",
       "      <th>Post_Test_Score</th>\n",
       "    </tr>\n",
       "  </thead>\n",
       "  <tbody>\n",
       "    <tr>\n",
       "      <td>0</td>\n",
       "      <td>First_Name</td>\n",
       "      <td>Last_Name</td>\n",
       "      <td>Age</td>\n",
       "      <td>Pre_Test_Score</td>\n",
       "      <td>Post_Test_Score</td>\n",
       "    </tr>\n",
       "    <tr>\n",
       "      <td>1</td>\n",
       "      <td>Jason</td>\n",
       "      <td>Miller</td>\n",
       "      <td>42</td>\n",
       "      <td>4</td>\n",
       "      <td>25,000</td>\n",
       "    </tr>\n",
       "    <tr>\n",
       "      <td>2</td>\n",
       "      <td>Molly</td>\n",
       "      <td>Jacobson</td>\n",
       "      <td>52</td>\n",
       "      <td>24</td>\n",
       "      <td>94,000</td>\n",
       "    </tr>\n",
       "    <tr>\n",
       "      <td>3</td>\n",
       "      <td>Tina</td>\n",
       "      <td>.</td>\n",
       "      <td>36</td>\n",
       "      <td>31</td>\n",
       "      <td>57</td>\n",
       "    </tr>\n",
       "    <tr>\n",
       "      <td>4</td>\n",
       "      <td>Jake</td>\n",
       "      <td>Milner</td>\n",
       "      <td>24</td>\n",
       "      <td>.</td>\n",
       "      <td>62</td>\n",
       "    </tr>\n",
       "    <tr>\n",
       "      <td>5</td>\n",
       "      <td>Amy</td>\n",
       "      <td>Cooze</td>\n",
       "      <td>73</td>\n",
       "      <td>.</td>\n",
       "      <td>70</td>\n",
       "    </tr>\n",
       "  </tbody>\n",
       "</table>\n",
       "</div>"
      ],
      "text/plain": [
       "   First_Name  Last_Name  Age  Pre_Test_Score  Post_Test_Score\n",
       "0  First_Name  Last_Name  Age  Pre_Test_Score  Post_Test_Score\n",
       "1       Jason     Miller   42               4           25,000\n",
       "2       Molly   Jacobson   52              24           94,000\n",
       "3        Tina          .   36              31               57\n",
       "4        Jake     Milner   24               .               62\n",
       "5         Amy      Cooze   73               .               70"
      ]
     },
     "execution_count": 37,
     "metadata": {},
     "output_type": "execute_result"
    }
   ],
   "source": [
    "example"
   ]
  },
  {
   "cell_type": "code",
   "execution_count": 38,
   "metadata": {},
   "outputs": [
    {
     "data": {
      "text/html": [
       "<div>\n",
       "<style scoped>\n",
       "    .dataframe tbody tr th:only-of-type {\n",
       "        vertical-align: middle;\n",
       "    }\n",
       "\n",
       "    .dataframe tbody tr th {\n",
       "        vertical-align: top;\n",
       "    }\n",
       "\n",
       "    .dataframe thead th {\n",
       "        text-align: right;\n",
       "    }\n",
       "</style>\n",
       "<table border=\"1\" class=\"dataframe\">\n",
       "  <thead>\n",
       "    <tr style=\"text-align: right;\">\n",
       "      <th></th>\n",
       "      <th>First_Name</th>\n",
       "      <th>Last_Name</th>\n",
       "      <th>Age</th>\n",
       "      <th>Pre_Test_Score</th>\n",
       "      <th>Post_Test_Score</th>\n",
       "    </tr>\n",
       "  </thead>\n",
       "  <tbody>\n",
       "    <tr>\n",
       "      <td>1</td>\n",
       "      <td>Jason</td>\n",
       "      <td>Miller</td>\n",
       "      <td>42</td>\n",
       "      <td>4</td>\n",
       "      <td>25,000</td>\n",
       "    </tr>\n",
       "    <tr>\n",
       "      <td>2</td>\n",
       "      <td>Molly</td>\n",
       "      <td>Jacobson</td>\n",
       "      <td>52</td>\n",
       "      <td>24</td>\n",
       "      <td>94,000</td>\n",
       "    </tr>\n",
       "    <tr>\n",
       "      <td>3</td>\n",
       "      <td>Tina</td>\n",
       "      <td>.</td>\n",
       "      <td>36</td>\n",
       "      <td>31</td>\n",
       "      <td>57</td>\n",
       "    </tr>\n",
       "    <tr>\n",
       "      <td>4</td>\n",
       "      <td>Jake</td>\n",
       "      <td>Milner</td>\n",
       "      <td>24</td>\n",
       "      <td>.</td>\n",
       "      <td>62</td>\n",
       "    </tr>\n",
       "    <tr>\n",
       "      <td>5</td>\n",
       "      <td>Amy</td>\n",
       "      <td>Cooze</td>\n",
       "      <td>73</td>\n",
       "      <td>.</td>\n",
       "      <td>70</td>\n",
       "    </tr>\n",
       "  </tbody>\n",
       "</table>\n",
       "</div>"
      ],
      "text/plain": [
       "  First_Name Last_Name Age Pre_Test_Score Post_Test_Score\n",
       "1      Jason    Miller  42              4          25,000\n",
       "2      Molly  Jacobson  52             24          94,000\n",
       "3       Tina         .  36             31              57\n",
       "4       Jake    Milner  24              .              62\n",
       "5        Amy     Cooze  73              .              70"
      ]
     },
     "execution_count": 38,
     "metadata": {},
     "output_type": "execute_result"
    }
   ],
   "source": [
    "# Delete the repeated header in row-0\n",
    "example.drop([0,0])"
   ]
  },
  {
   "cell_type": "code",
   "execution_count": 39,
   "metadata": {},
   "outputs": [],
   "source": [
    "# 5.6: Print the data frame in a Boolean form as True or False. True for Null/ NaN values and false for non-null values"
   ]
  },
  {
   "cell_type": "code",
   "execution_count": 40,
   "metadata": {},
   "outputs": [],
   "source": [
    "# Sorry didn't understand the question, as there are no Null or NaN values in dataframe, except \".\" in three places"
   ]
  },
  {
   "cell_type": "code",
   "execution_count": 41,
   "metadata": {},
   "outputs": [
    {
     "name": "stdout",
     "output_type": "stream",
     "text": [
      "First_Name         0\n",
      "Last_Name          0\n",
      "Age                0\n",
      "Pre_Test_Score     0\n",
      "Post_Test_Score    0\n",
      "dtype: int64\n"
     ]
    }
   ],
   "source": [
    "print(example.isnull().sum())"
   ]
  },
  {
   "cell_type": "markdown",
   "metadata": {},
   "source": [
    "# 5.7: Read the dataframe by skipping first 3 rows and print the data frame"
   ]
  },
  {
   "cell_type": "code",
   "execution_count": 42,
   "metadata": {},
   "outputs": [
    {
     "data": {
      "text/html": [
       "<div>\n",
       "<style scoped>\n",
       "    .dataframe tbody tr th:only-of-type {\n",
       "        vertical-align: middle;\n",
       "    }\n",
       "\n",
       "    .dataframe tbody tr th {\n",
       "        vertical-align: top;\n",
       "    }\n",
       "\n",
       "    .dataframe thead th {\n",
       "        text-align: right;\n",
       "    }\n",
       "</style>\n",
       "<table border=\"1\" class=\"dataframe\">\n",
       "  <thead>\n",
       "    <tr style=\"text-align: right;\">\n",
       "      <th></th>\n",
       "      <th>First_Name</th>\n",
       "      <th>Last_Name</th>\n",
       "      <th>Age</th>\n",
       "      <th>Pre_Test_Score</th>\n",
       "      <th>Post_Test_Score</th>\n",
       "    </tr>\n",
       "  </thead>\n",
       "  <tbody>\n",
       "    <tr>\n",
       "      <td>0</td>\n",
       "      <td>First_Name</td>\n",
       "      <td>Last_Name</td>\n",
       "      <td>Age</td>\n",
       "      <td>Pre_Test_Score</td>\n",
       "      <td>Post_Test_Score</td>\n",
       "    </tr>\n",
       "    <tr>\n",
       "      <td>4</td>\n",
       "      <td>Jake</td>\n",
       "      <td>Milner</td>\n",
       "      <td>24</td>\n",
       "      <td>.</td>\n",
       "      <td>62</td>\n",
       "    </tr>\n",
       "    <tr>\n",
       "      <td>5</td>\n",
       "      <td>Amy</td>\n",
       "      <td>Cooze</td>\n",
       "      <td>73</td>\n",
       "      <td>.</td>\n",
       "      <td>70</td>\n",
       "    </tr>\n",
       "  </tbody>\n",
       "</table>\n",
       "</div>"
      ],
      "text/plain": [
       "   First_Name  Last_Name  Age  Pre_Test_Score  Post_Test_Score\n",
       "0  First_Name  Last_Name  Age  Pre_Test_Score  Post_Test_Score\n",
       "4        Jake     Milner   24               .               62\n",
       "5         Amy      Cooze   73               .               70"
      ]
     },
     "execution_count": 42,
     "metadata": {},
     "output_type": "execute_result"
    }
   ],
   "source": [
    "example.drop([1,2,3])"
   ]
  },
  {
   "cell_type": "markdown",
   "metadata": {},
   "source": [
    "# 5.8: Load a csv file while interpreting \",\" in strings around numbers as thousands seperators. Check the raw data 'postTestScore' column has, as thousands separator."
   ]
  },
  {
   "cell_type": "code",
   "execution_count": 43,
   "metadata": {},
   "outputs": [],
   "source": [
    "import pandas as pd\n",
    "import io"
   ]
  },
  {
   "cell_type": "code",
   "execution_count": 44,
   "metadata": {},
   "outputs": [],
   "source": [
    "data = pd.read_csv('example.csv', index_col=4).filter(regex='\\d{4}')"
   ]
  },
  {
   "cell_type": "code",
   "execution_count": 45,
   "metadata": {},
   "outputs": [
    {
     "data": {
      "text/html": [
       "<div>\n",
       "<style scoped>\n",
       "    .dataframe tbody tr th:only-of-type {\n",
       "        vertical-align: middle;\n",
       "    }\n",
       "\n",
       "    .dataframe tbody tr th {\n",
       "        vertical-align: top;\n",
       "    }\n",
       "\n",
       "    .dataframe thead th {\n",
       "        text-align: right;\n",
       "    }\n",
       "</style>\n",
       "<table border=\"1\" class=\"dataframe\">\n",
       "  <thead>\n",
       "    <tr style=\"text-align: right;\">\n",
       "      <th></th>\n",
       "    </tr>\n",
       "    <tr>\n",
       "      <th>Post_Test_Score</th>\n",
       "    </tr>\n",
       "  </thead>\n",
       "  <tbody>\n",
       "    <tr>\n",
       "      <td>25,000</td>\n",
       "    </tr>\n",
       "    <tr>\n",
       "      <td>94,000</td>\n",
       "    </tr>\n",
       "    <tr>\n",
       "      <td>57</td>\n",
       "    </tr>\n",
       "    <tr>\n",
       "      <td>62</td>\n",
       "    </tr>\n",
       "    <tr>\n",
       "      <td>70</td>\n",
       "    </tr>\n",
       "  </tbody>\n",
       "</table>\n",
       "</div>"
      ],
      "text/plain": [
       "Empty DataFrame\n",
       "Columns: []\n",
       "Index: [25,000, 94,000, 57, 62, 70]"
      ]
     },
     "execution_count": 45,
     "metadata": {},
     "output_type": "execute_result"
    }
   ],
   "source": [
    "data"
   ]
  },
  {
   "cell_type": "markdown",
   "metadata": {},
   "source": [
    "# 6. Perform Operations on Files"
   ]
  },
  {
   "cell_type": "code",
   "execution_count": 46,
   "metadata": {},
   "outputs": [],
   "source": [
    "# 6.1: From the raw data below create a Pandas Series\n",
    "# 'Amit', 'Bob', 'Kate', 'A', 'b', np.nan, 'Car', 'dog', 'cat'"
   ]
  },
  {
   "cell_type": "code",
   "execution_count": 47,
   "metadata": {},
   "outputs": [],
   "source": [
    "import re"
   ]
  },
  {
   "cell_type": "code",
   "execution_count": 48,
   "metadata": {},
   "outputs": [
    {
     "data": {
      "text/plain": [
       "('Amit', 'Bob', 'Kate', 'A', 'b', nan, 'Car', 'dog', 'cat')"
      ]
     },
     "execution_count": 48,
     "metadata": {},
     "output_type": "execute_result"
    }
   ],
   "source": [
    "# Assign data to a variable\n",
    "inpt = 'Amit', 'Bob', 'Kate', 'A', 'b', np.nan, 'Car', 'dog', 'cat'\n",
    "inpt"
   ]
  },
  {
   "cell_type": "code",
   "execution_count": 49,
   "metadata": {},
   "outputs": [],
   "source": [
    "# Convert data variable in a One dimensional array with the help of <<  .Series()  >>\n",
    "# Which holds data of any type (integer, string, float, python objects, etc.)\n",
    "sers = pd.Series(inpt)"
   ]
  },
  {
   "cell_type": "code",
   "execution_count": 50,
   "metadata": {},
   "outputs": [
    {
     "data": {
      "text/plain": [
       "0    False\n",
       "1    False\n",
       "2    False\n",
       "3    False\n",
       "4     True\n",
       "5      NaN\n",
       "6    False\n",
       "7     True\n",
       "8     True\n",
       "dtype: object"
      ]
     },
     "execution_count": 50,
     "metadata": {},
     "output_type": "execute_result"
    }
   ],
   "source": [
    "sers.str.islower()"
   ]
  },
  {
   "cell_type": "code",
   "execution_count": 51,
   "metadata": {},
   "outputs": [],
   "source": [
    "# a) Print all elements in lower case\n",
    "# This question is like dicy, as it has two meaning...\n",
    "# 1. Convert all elements to lower case or   //   2. display all elements in lowercase (mit, ob, ate, np nan, ar, dog, cat)"
   ]
  },
  {
   "cell_type": "code",
   "execution_count": 52,
   "metadata": {},
   "outputs": [
    {
     "data": {
      "text/plain": [
       "0    amit\n",
       "1     bob\n",
       "2    kate\n",
       "3       a\n",
       "4       b\n",
       "5     NaN\n",
       "6     car\n",
       "7     dog\n",
       "8     cat\n",
       "dtype: object"
      ]
     },
     "execution_count": 52,
     "metadata": {},
     "output_type": "execute_result"
    }
   ],
   "source": [
    "sers.str.lower()"
   ]
  },
  {
   "cell_type": "code",
   "execution_count": 53,
   "metadata": {},
   "outputs": [],
   "source": [
    "# b) Print all the elements in upper case"
   ]
  },
  {
   "cell_type": "code",
   "execution_count": 54,
   "metadata": {},
   "outputs": [
    {
     "data": {
      "text/plain": [
       "0    AMIT\n",
       "1     BOB\n",
       "2    KATE\n",
       "3       A\n",
       "4       B\n",
       "5     NaN\n",
       "6     CAR\n",
       "7     DOG\n",
       "8     CAT\n",
       "dtype: object"
      ]
     },
     "execution_count": 54,
     "metadata": {},
     "output_type": "execute_result"
    }
   ],
   "source": [
    "sers.str.upper()"
   ]
  },
  {
   "cell_type": "code",
   "execution_count": 55,
   "metadata": {},
   "outputs": [],
   "source": [
    "# c) Print the length of all the elements"
   ]
  },
  {
   "cell_type": "code",
   "execution_count": 56,
   "metadata": {},
   "outputs": [
    {
     "data": {
      "text/plain": [
       "0    4.0\n",
       "1    3.0\n",
       "2    4.0\n",
       "3    1.0\n",
       "4    1.0\n",
       "5    NaN\n",
       "6    3.0\n",
       "7    3.0\n",
       "8    3.0\n",
       "dtype: float64"
      ]
     },
     "execution_count": 56,
     "metadata": {},
     "output_type": "execute_result"
    }
   ],
   "source": [
    "sers.str.len()"
   ]
  },
  {
   "cell_type": "markdown",
   "metadata": {},
   "source": [
    "# 6.2: From the raw data below create a Pandas Series ' Atul', 'John ', ' jack ', 'Sam'"
   ]
  },
  {
   "cell_type": "code",
   "execution_count": 57,
   "metadata": {},
   "outputs": [],
   "source": [
    "# Create data\n",
    "pds_srs = ' Atul', 'John ', ' jack ', 'Sam'"
   ]
  },
  {
   "cell_type": "code",
   "execution_count": 58,
   "metadata": {},
   "outputs": [],
   "source": [
    "# Convert data in series format\n",
    "nw_pds_srs = pd.Series(pds_srs)"
   ]
  },
  {
   "cell_type": "code",
   "execution_count": 59,
   "metadata": {},
   "outputs": [
    {
     "data": {
      "text/plain": [
       "0    Atul\n",
       "1    John\n",
       "2    jack\n",
       "3     Sam\n",
       "dtype: object"
      ]
     },
     "execution_count": 59,
     "metadata": {},
     "output_type": "execute_result"
    }
   ],
   "source": [
    "# a) Print all elements after stripping spaces from the left and right\n",
    "# Strip spaces from both - right and left side\n",
    "nw_pds_srs.str.strip()"
   ]
  },
  {
   "cell_type": "code",
   "execution_count": 60,
   "metadata": {},
   "outputs": [
    {
     "data": {
      "text/plain": [
       "0     Atul\n",
       "1    John \n",
       "2    jack \n",
       "3      Sam\n",
       "dtype: object"
      ]
     },
     "execution_count": 60,
     "metadata": {},
     "output_type": "execute_result"
    }
   ],
   "source": [
    "# b) Print all the elements after removing spaces from the left only\n",
    "nw_pds_srs.str.lstrip()"
   ]
  },
  {
   "cell_type": "code",
   "execution_count": 61,
   "metadata": {},
   "outputs": [
    {
     "data": {
      "text/plain": [
       "0     Atul\n",
       "1     John\n",
       "2     jack\n",
       "3      Sam\n",
       "dtype: object"
      ]
     },
     "execution_count": 61,
     "metadata": {},
     "output_type": "execute_result"
    }
   ],
   "source": [
    "# c) Print all the elements after removing spaces from the right only\n",
    "nw_pds_srs.str.rstrip()"
   ]
  },
  {
   "cell_type": "markdown",
   "metadata": {},
   "source": [
    "# 6.3: - Create a series from the raw data below 'India_is_big', 'Population_is_huge', np.nan, 'Has_diverse_culture'"
   ]
  },
  {
   "cell_type": "code",
   "execution_count": 62,
   "metadata": {},
   "outputs": [],
   "source": [
    "import numpy as np\n",
    "import pandas as pd"
   ]
  },
  {
   "cell_type": "code",
   "execution_count": 63,
   "metadata": {},
   "outputs": [],
   "source": [
    "# a) split the individual strings wherever ‘_’ comes and create a list out of it."
   ]
  },
  {
   "cell_type": "code",
   "execution_count": 64,
   "metadata": {},
   "outputs": [],
   "source": [
    "gvn_data = ['India_is_big', 'Population_is_huge', 'Has_diverse_culture']"
   ]
  },
  {
   "cell_type": "code",
   "execution_count": 65,
   "metadata": {},
   "outputs": [
    {
     "data": {
      "text/plain": [
       "['India_is_big', 'Population_is_huge', 'Has_diverse_culture']"
      ]
     },
     "execution_count": 65,
     "metadata": {},
     "output_type": "execute_result"
    }
   ],
   "source": [
    "gvn_data"
   ]
  },
  {
   "cell_type": "code",
   "execution_count": 115,
   "metadata": {},
   "outputs": [],
   "source": [
    "gvn_data = ['India_is_big', 'Population_is_huge', 'Has_diverse_culture']\n",
    "out_data=[]\n",
    "for i in range(len(gvn_data)):\n",
    "    out_data.append(gvn_data[i].split('_'))"
   ]
  },
  {
   "cell_type": "code",
   "execution_count": 130,
   "metadata": {},
   "outputs": [
    {
     "data": {
      "text/plain": [
       "0           [India, is, big]\n",
       "1     [Population, is, huge]\n",
       "2    [Has, diverse, culture]\n",
       "dtype: object"
      ]
     },
     "execution_count": 130,
     "metadata": {},
     "output_type": "execute_result"
    }
   ],
   "source": [
    "out_data"
   ]
  },
  {
   "cell_type": "code",
   "execution_count": 132,
   "metadata": {},
   "outputs": [],
   "source": [
    "odata = pd.Series(out_data)"
   ]
  },
  {
   "cell_type": "code",
   "execution_count": null,
   "metadata": {},
   "outputs": [],
   "source": []
  },
  {
   "cell_type": "code",
   "execution_count": 112,
   "metadata": {},
   "outputs": [],
   "source": [
    "# b) Access the individual element of a list"
   ]
  },
  {
   "cell_type": "code",
   "execution_count": 138,
   "metadata": {},
   "outputs": [
    {
     "name": "stdout",
     "output_type": "stream",
     "text": [
      "['India', 'is', 'big']\n",
      "['Population', 'is', 'huge']\n",
      "['Has', 'diverse', 'culture']\n"
     ]
    }
   ],
   "source": [
    "for m in range(len(out_data)):\n",
    "    print (out_data[m])"
   ]
  },
  {
   "cell_type": "markdown",
   "metadata": {},
   "source": [
    "# 6.4: Create a series and replace either X or dog with XX-XX"
   ]
  },
  {
   "cell_type": "code",
   "execution_count": 66,
   "metadata": {},
   "outputs": [],
   "source": [
    "data_ = 'A', 'B', 'C', 'AabX', 'BacX','', np.nan, 'CABA', 'dog', 'cat'"
   ]
  },
  {
   "cell_type": "code",
   "execution_count": 67,
   "metadata": {},
   "outputs": [
    {
     "data": {
      "text/plain": [
       "('A', 'B', 'C', 'AabX', 'BacX', '', nan, 'CABA', 'dog', 'cat')"
      ]
     },
     "execution_count": 67,
     "metadata": {},
     "output_type": "execute_result"
    }
   ],
   "source": [
    "data_"
   ]
  },
  {
   "cell_type": "code",
   "execution_count": 68,
   "metadata": {},
   "outputs": [],
   "source": [
    "sr = pd.Series(data_)"
   ]
  },
  {
   "cell_type": "code",
   "execution_count": 69,
   "metadata": {},
   "outputs": [
    {
     "data": {
      "text/plain": [
       "0       A\n",
       "1       B\n",
       "2       C\n",
       "3    AabX\n",
       "4    BacX\n",
       "5        \n",
       "6     NaN\n",
       "7    CABA\n",
       "8     dog\n",
       "9     cat\n",
       "dtype: object"
      ]
     },
     "execution_count": 69,
     "metadata": {},
     "output_type": "execute_result"
    }
   ],
   "source": [
    "sr"
   ]
  },
  {
   "cell_type": "code",
   "execution_count": 80,
   "metadata": {},
   "outputs": [
    {
     "data": {
      "text/plain": [
       "0            XX-XX \n",
       "1                 B\n",
       "2                 C\n",
       "3    XX-XX XX-XX bX\n",
       "4         BXX-XX cX\n",
       "5                  \n",
       "6               NaN\n",
       "7    CXX-XX BXX-XX \n",
       "8            XX-XX \n",
       "9          cXX-XX t\n",
       "dtype: object"
      ]
     },
     "execution_count": 80,
     "metadata": {},
     "output_type": "execute_result"
    }
   ],
   "source": [
    "sr.str.replace('a|dog', 'XX-XX ', case=False)"
   ]
  },
  {
   "cell_type": "markdown",
   "metadata": {},
   "source": [
    "# 6.5: Create a series and remove dollar from the numeric values"
   ]
  },
  {
   "cell_type": "code",
   "execution_count": 77,
   "metadata": {},
   "outputs": [],
   "source": [
    "money = '12', '-$10', '$10,000'"
   ]
  },
  {
   "cell_type": "code",
   "execution_count": 78,
   "metadata": {},
   "outputs": [],
   "source": [
    "sr_mny = pd.Series(money)"
   ]
  },
  {
   "cell_type": "code",
   "execution_count": 79,
   "metadata": {},
   "outputs": [
    {
     "data": {
      "text/plain": [
       "0         12\n",
       "1       -$10\n",
       "2    $10,000\n",
       "dtype: object"
      ]
     },
     "execution_count": 79,
     "metadata": {},
     "output_type": "execute_result"
    }
   ],
   "source": [
    "sr_mny"
   ]
  },
  {
   "cell_type": "code",
   "execution_count": 82,
   "metadata": {},
   "outputs": [
    {
     "data": {
      "text/plain": [
       "0        12\n",
       "1       -10\n",
       "2    10,000\n",
       "dtype: object"
      ]
     },
     "execution_count": 82,
     "metadata": {},
     "output_type": "execute_result"
    }
   ],
   "source": [
    "sr_mny.str.replace(r'$', '')"
   ]
  },
  {
   "cell_type": "markdown",
   "metadata": {},
   "source": [
    "# 6.6:- Create a series and reverse all lower case words"
   ]
  },
  {
   "cell_type": "code",
   "execution_count": 93,
   "metadata": {},
   "outputs": [],
   "source": [
    "def reverse(indi): \n",
    "  str = \"\" \n",
    "  for i in indi: \n",
    "    str = i + str\n",
    "  return str\n",
    "\n",
    "indi = 'india 1998', 'big country', np.nan"
   ]
  },
  {
   "cell_type": "code",
   "execution_count": 101,
   "metadata": {},
   "outputs": [
    {
     "name": "stdout",
     "output_type": "stream",
     "text": [
      "Original string: ('india 1998', 'big country', nan)\n"
     ]
    }
   ],
   "source": [
    "print (\"Original string: \", end=\"\") \n",
    "print (indi)"
   ]
  },
  {
   "cell_type": "code",
   "execution_count": 108,
   "metadata": {},
   "outputs": [
    {
     "name": "stdout",
     "output_type": "stream",
     "text": [
      "Reversed string: \n"
     ]
    },
    {
     "data": {
      "text/plain": [
       "<reversed at 0x27903a6d7c8>"
      ]
     },
     "execution_count": 108,
     "metadata": {},
     "output_type": "execute_result"
    }
   ],
   "source": [
    "print(\"Reversed string: \", end=\"\") \n",
    "reversed(indi)"
   ]
  },
  {
   "cell_type": "markdown",
   "metadata": {},
   "source": [
    "# 6.7: Create pandas series and print true if value is alphanumeric in series or false if value is not alpha numeric in series."
   ]
  },
  {
   "cell_type": "code",
   "execution_count": 112,
   "metadata": {},
   "outputs": [],
   "source": [
    "import pandas as pd\n",
    "pandsr = pd.Series(['1', '2', '1a', '2b', '2003c'])"
   ]
  },
  {
   "cell_type": "code",
   "execution_count": 113,
   "metadata": {},
   "outputs": [
    {
     "data": {
      "text/plain": [
       "0    True\n",
       "1    True\n",
       "2    True\n",
       "3    True\n",
       "4    True\n",
       "dtype: bool"
      ]
     },
     "execution_count": 113,
     "metadata": {},
     "output_type": "execute_result"
    }
   ],
   "source": [
    "pandsr.str.isalnum()"
   ]
  },
  {
   "cell_type": "markdown",
   "metadata": {},
   "source": [
    "# 6.8: Create pandas series and print true if value is containing ‘A’"
   ]
  },
  {
   "cell_type": "code",
   "execution_count": 114,
   "metadata": {},
   "outputs": [],
   "source": [
    "cntn_a = pd.Series(['1', '2', '1a', '2b', 'America', 'VietnAm','vietnam', '2003c'])"
   ]
  },
  {
   "cell_type": "code",
   "execution_count": 115,
   "metadata": {},
   "outputs": [
    {
     "data": {
      "text/plain": [
       "0    False\n",
       "1    False\n",
       "2    False\n",
       "3    False\n",
       "4     True\n",
       "5     True\n",
       "6    False\n",
       "7    False\n",
       "dtype: bool"
      ]
     },
     "execution_count": 115,
     "metadata": {},
     "output_type": "execute_result"
    }
   ],
   "source": [
    "cntn_a.str.contains(\"A\")"
   ]
  },
  {
   "cell_type": "markdown",
   "metadata": {},
   "source": [
    "# 6.9: Create pandas series and print in three columns value 0 or 1 is a or b or c exists in values 'a', 'a|b', np.nan, 'a|c'"
   ]
  },
  {
   "cell_type": "code",
   "execution_count": 116,
   "metadata": {},
   "outputs": [],
   "source": [
    "temp = pd.Series(['a', 'a|b', np.nan, 'a|c'])"
   ]
  },
  {
   "cell_type": "code",
   "execution_count": 117,
   "metadata": {},
   "outputs": [
    {
     "data": {
      "text/html": [
       "<div>\n",
       "<style scoped>\n",
       "    .dataframe tbody tr th:only-of-type {\n",
       "        vertical-align: middle;\n",
       "    }\n",
       "\n",
       "    .dataframe tbody tr th {\n",
       "        vertical-align: top;\n",
       "    }\n",
       "\n",
       "    .dataframe thead th {\n",
       "        text-align: right;\n",
       "    }\n",
       "</style>\n",
       "<table border=\"1\" class=\"dataframe\">\n",
       "  <thead>\n",
       "    <tr style=\"text-align: right;\">\n",
       "      <th></th>\n",
       "      <th>a</th>\n",
       "      <th>b</th>\n",
       "      <th>c</th>\n",
       "    </tr>\n",
       "  </thead>\n",
       "  <tbody>\n",
       "    <tr>\n",
       "      <td>0</td>\n",
       "      <td>1</td>\n",
       "      <td>0</td>\n",
       "      <td>0</td>\n",
       "    </tr>\n",
       "    <tr>\n",
       "      <td>1</td>\n",
       "      <td>1</td>\n",
       "      <td>1</td>\n",
       "      <td>0</td>\n",
       "    </tr>\n",
       "    <tr>\n",
       "      <td>2</td>\n",
       "      <td>0</td>\n",
       "      <td>0</td>\n",
       "      <td>0</td>\n",
       "    </tr>\n",
       "    <tr>\n",
       "      <td>3</td>\n",
       "      <td>1</td>\n",
       "      <td>0</td>\n",
       "      <td>1</td>\n",
       "    </tr>\n",
       "  </tbody>\n",
       "</table>\n",
       "</div>"
      ],
      "text/plain": [
       "   a  b  c\n",
       "0  1  0  0\n",
       "1  1  1  0\n",
       "2  0  0  0\n",
       "3  1  0  1"
      ]
     },
     "execution_count": 117,
     "metadata": {},
     "output_type": "execute_result"
    }
   ],
   "source": [
    "temp.str.get_dummies(sep='|')"
   ]
  },
  {
   "cell_type": "markdown",
   "metadata": {},
   "source": [
    "# 6.10: Create pandas dataframe having keys and ltable and rtable as below -"
   ]
  },
  {
   "cell_type": "code",
   "execution_count": 124,
   "metadata": {},
   "outputs": [
    {
     "name": "stdout",
     "output_type": "stream",
     "text": [
      "   key  left_tbl\n",
      "0  One         1\n",
      "1  Two         2\n"
     ]
    }
   ],
   "source": [
    "left_tbl = {'key': ['One', 'Two'], 'left_tbl': [1, 2]}\n",
    "rite_tbl = {'key': ['One', 'Two'], 'rite_tbl': [4, 5]}\n",
    "dfrm1 = pd.DataFrame(data=left_tbl)\n",
    "dfrm2 = pd.DataFrame(data=rite_tbl)\n",
    "dfrm1.add(dfrm2,fill_value=0)\n",
    "print(dfrm1)"
   ]
  },
  {
   "cell_type": "code",
   "execution_count": 125,
   "metadata": {},
   "outputs": [
    {
     "name": "stdout",
     "output_type": "stream",
     "text": [
      "   key  rite_tbl\n",
      "0  One         4\n",
      "1  Two         5\n"
     ]
    }
   ],
   "source": [
    "dfrm2.add(dfrm1,fill_value=0)\n",
    "print(dfrm2)"
   ]
  },
  {
   "cell_type": "code",
   "execution_count": 126,
   "metadata": {},
   "outputs": [
    {
     "data": {
      "text/html": [
       "<div>\n",
       "<style scoped>\n",
       "    .dataframe tbody tr th:only-of-type {\n",
       "        vertical-align: middle;\n",
       "    }\n",
       "\n",
       "    .dataframe tbody tr th {\n",
       "        vertical-align: top;\n",
       "    }\n",
       "\n",
       "    .dataframe thead th {\n",
       "        text-align: right;\n",
       "    }\n",
       "</style>\n",
       "<table border=\"1\" class=\"dataframe\">\n",
       "  <thead>\n",
       "    <tr style=\"text-align: right;\">\n",
       "      <th></th>\n",
       "      <th>key</th>\n",
       "      <th>left_tbl</th>\n",
       "      <th>rite_tbl</th>\n",
       "    </tr>\n",
       "  </thead>\n",
       "  <tbody>\n",
       "    <tr>\n",
       "      <td>0</td>\n",
       "      <td>One</td>\n",
       "      <td>1</td>\n",
       "      <td>4</td>\n",
       "    </tr>\n",
       "    <tr>\n",
       "      <td>1</td>\n",
       "      <td>Two</td>\n",
       "      <td>2</td>\n",
       "      <td>5</td>\n",
       "    </tr>\n",
       "  </tbody>\n",
       "</table>\n",
       "</div>"
      ],
      "text/plain": [
       "   key  left_tbl  rite_tbl\n",
       "0  One         1         4\n",
       "1  Two         2         5"
      ]
     },
     "execution_count": 126,
     "metadata": {},
     "output_type": "execute_result"
    }
   ],
   "source": [
    "dfrm1.merge(dfrm2)"
   ]
  },
  {
   "cell_type": "code",
   "execution_count": null,
   "metadata": {},
   "outputs": [],
   "source": []
  }
 ],
 "metadata": {
  "kernelspec": {
   "display_name": "Python 3",
   "language": "python",
   "name": "python3"
  },
  "language_info": {
   "codemirror_mode": {
    "name": "ipython",
    "version": 3
   },
   "file_extension": ".py",
   "mimetype": "text/x-python",
   "name": "python",
   "nbconvert_exporter": "python",
   "pygments_lexer": "ipython3",
   "version": "3.7.4"
  }
 },
 "nbformat": 4,
 "nbformat_minor": 2
}
